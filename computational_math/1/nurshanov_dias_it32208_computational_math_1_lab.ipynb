{
 "cells": [
  {
   "cell_type": "code",
   "execution_count": null,
   "id": "4e44d082-0bf7-400c-8d03-9d2f47fcf87c",
   "metadata": {},
   "outputs": [],
   "source": [
    "Computational Mathematic Lab 1. Horner's Scheme\n",
    "Nurshanov Dias\n",
    "IT3-2208"
   ]
  },
  {
   "cell_type": "code",
   "execution_count": null,
   "id": "864d3028-cc61-4c43-877a-3668414bcaa9",
   "metadata": {},
   "outputs": [],
   "source": [
    "Find the value of the polynomial P(x) using the Horner's scheme.\n",
    "\n",
    "The report contains:\n",
    "Code implementation (50%)\n",
    "Output of the program (25%)\n",
    "Solution by hand (25%)"
   ]
  },
  {
   "cell_type": "code",
   "execution_count": null,
   "id": "1927c21e-c5bd-4ec9-97c9-2c74d4e8982e",
   "metadata": {},
   "outputs": [],
   "source": [
    "Exercise 1) Code Implementation"
   ]
  },
  {
   "cell_type": "code",
   "execution_count": 1,
   "id": "853698bb-f88a-47c9-abba-e8a60360b67b",
   "metadata": {},
   "outputs": [],
   "source": [
    "def compute_poly(n:int, coefs:list[int]|tuple[int], a):\n",
    "    try:\n",
    "        result = coefs[0]\n",
    "    except IndexError:\n",
    "        result=0 # automatically 0 if no coefficients passed\n",
    "        \n",
    "    for value in coefs[1:]:\n",
    "        # start from element with index 1\n",
    "        result = result*a + value\n",
    "    return result\n"
   ]
  },
  {
   "cell_type": "code",
   "execution_count": null,
   "id": "9d4cf668-76e5-4225-9a36-48c3e1461be2",
   "metadata": {},
   "outputs": [],
   "source": [
    "Exercise 2) Output of the program"
   ]
  },
  {
   "cell_type": "code",
   "execution_count": 2,
   "id": "cc126174-b5cc-4c09-a447-1a7ca955426a",
   "metadata": {},
   "outputs": [],
   "source": [
    "linear_polynom = ( # P(x) = 3x + 2 when x = 4\n",
    "    1, # the degree of the polynomial\n",
    "    (3,2), # coefficients\n",
    "    4 # value\n",
    ")\n",
    "quadratic_polynom = ( # P(x) = 2x^2 - 5x + 3 when x = 2\n",
    "    2,\n",
    "    (2, -5, 3),\n",
    "    2\n",
    ")\n",
    "cubic_polynom = ( # P(x) = x^3 - 4x^2 + 6x - 2 when x = 3\n",
    "    3,\n",
    "    (1, -4, 6, -2),\n",
    "    3\n",
    ")"
   ]
  },
  {
   "cell_type": "code",
   "execution_count": 3,
   "id": "e0635f2a-65f0-4266-9354-72659a31f642",
   "metadata": {
    "ExecuteTime": {
     "end_time": "2024-09-10T06:39:41.676436Z",
     "start_time": "2024-09-10T06:39:41.662976Z"
    }
   },
   "outputs": [
    {
     "name": "stdout",
     "output_type": "stream",
     "text": [
      "Linear polynomial: P(x) = 3x + 2 when x = 4\n",
      "Computed value: 14\n",
      "\n",
      "Quadratic polynomial: P(x) = 2x^2 - 5x + 3 when x = 2\n",
      "Computed value: 1\n",
      "\n",
      "Cubic polynomial: P(x) = x^3 - 4x^2 + 6x - 2 when x = 3\n",
      "Computed value: 7\n",
      "\n"
     ]
    }
   ],
   "source": [
    "print(f'Linear polynomial: P(x) = 3x + 2 when x = 4')\n",
    "print(f'Computed value: {compute_poly(*linear_polynom)}', end='\\n\\n')\n",
    "\n",
    "print(f'Quadratic polynomial: P(x) = 2x^2 - 5x + 3 when x = 2')\n",
    "print(f'Computed value: {compute_poly(*quadratic_polynom)}', end='\\n\\n')\n",
    "\n",
    "print(f'Cubic polynomial: P(x) = x^3 - 4x^2 + 6x - 2 when x = 3')\n",
    "print(f'Computed value: {compute_poly(*cubic_polynom)}', end='\\n\\n')"
   ]
  },
  {
   "cell_type": "code",
   "execution_count": null,
   "id": "85f3b70e-6d2e-4509-964c-547535e9a46a",
   "metadata": {},
   "outputs": [],
   "source": [
    "Linear Polynomial: P(x) = 3x + 2 when x = 4\n",
    "Using Horner's Scheme: P(x) = 3x + 2\n",
    "To compute P(4): P(4) = 3 * 4 + 2 = 12 + 2 = 14\n",
    "\n",
    "Quadratic Polynomial: P(x) = 2x^2 - 5x + 3 when x = 2\n",
    "Using Horner's Scheme: P(x) = 2x^2 - 5x + 3 P(x) = ((2x - 5)x + 3)\n",
    "To compute P(2): P(2) = ((2 * 2 - 5) * 2 + 3)\n",
    "P(2) = ((4 - 5) * 2 + 3)\n",
    "P(2) = (-1 * 2 + 3)\n",
    "P(2) = -2 + 3\n",
    "P(2) = 1\n",
    "\n",
    "Cubic Polynomial: P(x) = x^3 - 4x^2 + 6x - 2 when x = 3\n",
    "Using Horner's Scheme: P(x) = x^3 - 4x^2 + 6x - 2 P(x) = ((x - 4)x + 6)x - 2\n",
    "To compute P(3): P(3) = (((3 - 4) * 3 + 6) * 3 - 2)\n",
    "P(3) = ((-1 * 3 + 6) * 3 - 2)\n",
    "P(3) = (3 * 3 - 2)\n",
    "P(3) = 9 - 2\n",
    "P(3) = 7"
   ]
  }
 ],
 "metadata": {
  "kernelspec": {
   "display_name": "Python 3 (ipykernel)",
   "language": "python",
   "name": "python3"
  },
  "language_info": {
   "codemirror_mode": {
    "name": "ipython",
    "version": 3
   },
   "file_extension": ".py",
   "mimetype": "text/x-python",
   "name": "python",
   "nbconvert_exporter": "python",
   "pygments_lexer": "ipython3",
   "version": "3.10.12"
  }
 },
 "nbformat": 4,
 "nbformat_minor": 5
}
