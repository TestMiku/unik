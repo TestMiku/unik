{
 "cells": [
  {
   "cell_type": "code",
   "execution_count": null,
   "id": "initial_id",
   "metadata": {
    "collapsed": true,
    "jupyter": {
     "outputs_hidden": true
    }
   },
   "outputs": [],
   "source": [
    "from sys import implementation\n",
    "\n",
    "Computational Mathematic Lab 3. Methods of square roots\n",
    "Nurshanov Dias\n",
    "IT3-2208"
   ]
  },
  {
   "cell_type": "code",
   "execution_count": 1,
   "id": "78c75ff794f41e6d",
   "metadata": {
    "ExecuteTime": {
     "end_time": "2024-10-01T09:14:29.838508Z",
     "start_time": "2024-10-01T09:14:29.822875Z"
    }
   },
   "outputs": [],
   "source": [
    "#1) implementation of the method\n",
    "def cholesky_decomposition(A):\n",
    "    n = len(A)\n",
    "    L = [[0.0] * n for _ in range(n)]\n",
    "\n",
    "    for i in range(n):\n",
    "        for k in range(i + 1):\n",
    "            temp_sum = sum(L[i][j] * L[k][j] for j in range(k))\n",
    "            if i == k:  # Diagonal elements\n",
    "                L[i][k] = (A[i][i] - temp_sum) ** 0.5\n",
    "            else:\n",
    "                L[i][k] = (A[i][k] - temp_sum) / L[k][k]\n",
    "    return L\n",
    "\n",
    "def solve_cholesky(L, b):\n",
    "    n = len(b)\n",
    "    # Forward substitution to solve L*y = b\n",
    "    y = [0.0] * n\n",
    "    for i in range(n):\n",
    "        y[i] = (b[i] - sum(L[i][j] * y[j] for j in range(i))) / L[i][i]\n",
    "\n",
    "    # Backward substitution to solve L^T*x = y\n",
    "    x = [0.0] * n\n",
    "    for i in range(n-1, -1, -1):\n",
    "        x[i] = (y[i] - sum(L[j][i] * x[j] for j in range(i + 1, n))) / L[i][i]\n",
    "    return x"
   ]
  },
  {
   "cell_type": "code",
   "execution_count": 2,
   "id": "b65712d3312531ec",
   "metadata": {
    "ExecuteTime": {
     "end_time": "2024-10-01T09:14:31.244455Z",
     "start_time": "2024-10-01T09:14:31.228947Z"
    }
   },
   "outputs": [
    {
     "name": "stdout",
     "output_type": "stream",
     "text": [
      "Solution using Cholesky Decomposition: [28.583333333333332, -7.666666666666666, 1.3333333333333333]\n"
     ]
    }
   ],
   "source": [
    "#2) output of the program\n",
    "A = [\n",
    "    [4, 12, -16],\n",
    "    [12, 37, -43],\n",
    "    [-16, -43, 98]\n",
    "]\n",
    "\n",
    "b = [1, 2, 3]\n",
    "\n",
    "# Cholesky\n",
    "L = cholesky_decomposition(A)\n",
    "x_cholesky = solve_cholesky(L, b)\n",
    "\n",
    "\n",
    "print(\"Solution using Cholesky Decomposition:\", x_cholesky)"
   ]
  },
  {
   "cell_type": "code",
   "execution_count": null,
   "id": "d4b2749bccda7755",
   "metadata": {},
   "outputs": [],
   "source": [
    "#3) solution by hand\n",
    "\n",
    "Cholesky Decomposition Manual Solution\n",
    "\n",
    "System: 4x + 12y - 16z = 1\n",
    "12x + 37y - 43z = 2\n",
    "-16x - 43y + 98z = 3\n",
    "\n",
    "Matrix A and Vector b: A =\n",
    "[4, 12, -16]\n",
    "[12, 37, -43]\n",
    "[-16, -43, 98]\n",
    "\n",
    "b = [1, 2, 3]\n",
    "\n",
    "Decompose A into L and L^T: A = L * L^T =\n",
    "[l11, 0, 0]\n",
    "[l21, l22, 0]\n",
    "[l31, l32, l33] *\n",
    "[l11, l21, l31]\n",
    "[0, l22, l32]\n",
    "[0, 0, l33]\n",
    "\n",
    "Calculate l11: l11^2 = 4 => l11 = 2\n",
    "\n",
    "Calculate l21: l21 * l11 = 12 => l21 = 6\n",
    "\n",
    "Calculate l31: l31 * l11 = -16 => l31 = -8\n",
    "\n",
    "Calculate l22: l21^2 + l22^2 = 37 => 6^2 + l22^2 = 37\n",
    "36 + l22^2 = 37 => l22^2 = 1\n",
    "l22 = 1\n",
    "\n",
    "Calculate l32: l31 * l21 + l32 * l22 = -43 => (-8 * 6) + l32 * 1 = -43\n",
    "-48 + l32 = -43\n",
    "l32 = 5\n",
    "\n",
    "Calculate l33: l31^2 + l32^2 + l33^2 = 98\n",
    "(-8)^2 + 5^2 + l33^2 = 98\n",
    "64 + 25 + l33^2 = 98\n",
    "l33^2 = 9 => l33 = 3\n",
    "\n",
    "L Matrix: L =\n",
    "[2, 0, 0]\n",
    "[6, 1, 0]\n",
    "[-8, 5, 3]\n",
    "\n",
    "Solve Ly = b: Forward substitution:\n",
    "\n",
    "y1 = b1 / l11 => y1 = 1 / 2 = 0.5\n",
    "y2 = (b2 - l21 * y1) / l22 => y2 = (2 - 6 * 0.5) / 1 = -1\n",
    "y3 = (b3 - l31 * y1 - l32 * y2) / l33\n",
    "y3 = (3 - (-8 * 0.5) - (5 * -1)) / 3\n",
    "y3 = (3 + 4 + 5) / 3 = 4\n",
    "\n",
    "y = [0.5, -1, 4]\n",
    "\n",
    "Solve L^T x = y: Backward substitution:\n",
    "\n",
    "x3 = y3 / l33 => x3 = 4 / 3 = 1.33\n",
    "x2 = (y2 - l32 * x3) / l22 => x2 = (-1 - 5 * 1.33) / 1 = -7.67\n",
    "x1 = (y1 - l21 * x2 - l31 * x3) / l11\n",
    "x1 = (0.5 - 6 * (-7.67) - (-8 * 1.33)) / 2\n",
    "x1 = (0.5 + 46.02 + 10.64) / 2 = 28.58\n",
    "\n",
    "x = [28.58, -7.67, 1.33]"
   ]
  }
 ],
 "metadata": {
  "kernelspec": {
   "display_name": "Python 3 (ipykernel)",
   "language": "python",
   "name": "python3"
  },
  "language_info": {
   "codemirror_mode": {
    "name": "ipython",
    "version": 3
   },
   "file_extension": ".py",
   "mimetype": "text/x-python",
   "name": "python",
   "nbconvert_exporter": "python",
   "pygments_lexer": "ipython3",
   "version": "3.10.12"
  }
 },
 "nbformat": 4,
 "nbformat_minor": 5
}
