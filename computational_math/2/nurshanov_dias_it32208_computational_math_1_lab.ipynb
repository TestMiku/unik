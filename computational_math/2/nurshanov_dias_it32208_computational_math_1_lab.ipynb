{
 "cells": [
  {
   "cell_type": "code",
   "execution_count": null,
   "id": "18f3833f-2971-454f-b78f-2ab4f11b3910",
   "metadata": {},
   "outputs": [],
   "source": [
    "Computational Mathematic Lab 2. Gauss method\n",
    "Nurshanov Dias\n",
    "IT3-2208"
   ]
  },
  {
   "cell_type": "code",
   "execution_count": 38,
   "id": "63908b54-8d94-4e6f-9e16-6166fbf42900",
   "metadata": {
    "ExecuteTime": {
     "end_time": "2024-09-13T11:40:55.838744Z",
     "start_time": "2024-09-13T11:40:55.818744Z"
    }
   },
   "outputs": [],
   "source": [
    "def gauss_elimination(A, b):\n",
    "    n = len(b)\n",
    "    for i in range(n):\n",
    "        max_row = i\n",
    "        for k in range(i + 1, n):\n",
    "            if abs(A[k][i]) > abs(A[max_row][i]):\n",
    "                max_row = k\n",
    "\n",
    "        A[i], A[max_row] = A[max_row], A[i]\n",
    "        b[i], b[max_row] = b[max_row], b[i]\n",
    "        \n",
    "        # Приведение к ступенчатому виду\n",
    "        for k in range(i + 1, n):\n",
    "            factor = A[k][i] / A[i][i]\n",
    "            b[k] -= factor * b[i]\n",
    "            for j in range(i, n):\n",
    "                A[k][j] -= factor * A[i][j]\n",
    "\n",
    "    x = [0] * n\n",
    "    for i in range(n - 1, -1, -1):\n",
    "        x[i] = b[i] / A[i][i]\n",
    "        for k in range(i - 1, -1, -1):\n",
    "            b[k] -= A[k][i] * x[i]\n",
    "    return x"
   ]
  },
  {
   "cell_type": "code",
   "execution_count": 39,
   "id": "5260bde7d4ec6ac6",
   "metadata": {},
   "outputs": [
    {
     "name": "stdout",
     "output_type": "stream",
     "text": [
      "Решение: [2.1999999999999997, 5.8, -2.2]\n"
     ]
    }
   ],
   "source": [
    "# 2)Output of the program. (25%)\n",
    "A = [\n",
    "    [0, 1, -1],\n",
    "    [-3, 0, 2],\n",
    "    [-2, 1, 2]\n",
    "]\n",
    "b = [8, -11, -3]\n",
    "\n",
    "solution = gauss_elimination(A, b)\n",
    "print(\"Решение:\", solution)"
   ]
  },
  {
   "cell_type": "code",
   "execution_count": null,
   "id": "da6ba4b9-c482-4cfb-aa1d-d0624ec74d08",
   "metadata": {},
   "outputs": [],
   "source": [
    "Исходная система уравнений\n",
    "[0, 1, -1]| 8\n",
    "[-3, 0, 2]| -11\n",
    "[-2, 1, 2]| -3\n",
    "Перестановка строк\n",
    "[-3, 0, 2]| -11\n",
    "[0, 1, -1]| 8.0\n",
    "[0, 1, 2/3]| 13/3\n",
    "Приведение к ступенчатому виду\n",
    "[-3, 0, 2]| -11\n",
    "[0, 1, -1]| 8.0\n",
    "[0, 0, 5/3]| -11/3\n",
    "Начало обратного хода\n",
    "[-3, 0, 2]| -6.6\n",
    "[0, 1, -1]| 5.8\n",
    "[0, 0, 5/3]| -11/3\n",
    "\n",
    "x3 = (-11/3) / (5/3) = -11 / 5 = -2.2\n",
    "x2 = 8 - (-1) * (-2.2) = 5.8\n",
    "x1 = (-11 - 2 * (-2.2)) / (-3) = (-11 + 4.4) / (-3) = -6.6 / -3 = 2.2"
   ]
  }
 ],
 "metadata": {
  "kernelspec": {
   "display_name": "Python 3 (ipykernel)",
   "language": "python",
   "name": "python3"
  },
  "language_info": {
   "codemirror_mode": {
    "name": "ipython",
    "version": 3
   },
   "file_extension": ".py",
   "mimetype": "text/x-python",
   "name": "python",
   "nbconvert_exporter": "python",
   "pygments_lexer": "ipython3",
   "version": "3.12.4"
  }
 },
 "nbformat": 4,
 "nbformat_minor": 5
}
