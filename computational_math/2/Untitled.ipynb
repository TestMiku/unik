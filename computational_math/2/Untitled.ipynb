{
 "cells": [
  {
   "cell_type": "code",
   "execution_count": null,
   "id": "18f3833f-2971-454f-b78f-2ab4f11b3910",
   "metadata": {},
   "outputs": [],
   "source": [
    "Computational Mathematic Lab 2. Gauss method\n",
    "Nurshanov Dias\n",
    "IT3-2208"
   ]
  },
  {
   "cell_type": "code",
   "id": "63908b54-8d94-4e6f-9e16-6166fbf42900",
   "metadata": {
    "ExecuteTime": {
     "end_time": "2024-09-13T11:40:55.838744Z",
     "start_time": "2024-09-13T11:40:55.818744Z"
    }
   },
   "source": [
    "# 1)Code of implementation. (Without any supplementary libraries). (50%)\n",
    "\n",
    "def compute_metrix_row(row: list|tuple, index: int):\n",
    "    \"\"\"Gets row of matrix and its index and prepare this row for triangle matrix\"\"\"\n",
    "    pass\n",
    "    \n",
    "\n",
    "def solve_gaussian(mc: list[list]|tuple[tuple], mv: list|tuple):\n",
    "    if isinstance(mc, tuple):\n",
    "        mc = [list(_) for _ in mc]\n",
    "    if isinstance(mv, tuple):\n",
    "        mv = list(mv)\n",
    "    for i in range(len(mc)):\n",
    "        for j in range(len(mc[i])):\n",
    "            if j>i:\n",
    "                pass\n",
    "            elif i==j:\n",
    "                mv[i]/=mc[i][j] \n",
    "                mc[i] = [_/mc[i][j] for _ in mc[i]]\n",
    "                print(mv[i])\n",
    "            else:\n",
    "                mv[j] -= mc[i][j] * mv[i]\n",
    "                mc[i] = [mc_i - mc[i][j]*mc_j for (mc_i, mc_j) in zip(mc[i], mc[j])]\n",
    "    \n",
    "    results = [float(0) for _ in range(len(mv))]\n",
    "    for i in range(len(mc)-1, -1, -1):\n",
    "        for j in range(len(mc[i])):\n",
    "            if i==j:\n",
    "                results[i] = mv[i] - sum(i * j for i, j in zip(mc[i], results))\n",
    "                \n",
    "            \n",
    "            \n",
    "    from pprint import pprint\n",
    "    pprint(mc)\n",
    "    pprint(mv)\n",
    "\n",
    "        \n",
    "\n",
    "matrix_coefs=[\n",
    "    [4,2,-1],\n",
    "    [5,3,-2],\n",
    "    [3,2,-3],\n",
    "]\n",
    "matrix_values=[-1,2,0]\n",
    "solve_gaussian(matrix_coefs,matrix_values)"
   ],
   "outputs": [
    {
     "name": "stdout",
     "output_type": "stream",
     "text": [
      "-0.25\n",
      "4.0\n",
      "-0.0\n",
      "[[1.0, 0.5, -0.25], [0.0, 1.0, -1.5], [-0.0, -0.0, 1.0]]\n",
      "[-10.25, 4.0, -0.0]\n"
     ]
    }
   ],
   "execution_count": 33
  },
  {
   "metadata": {},
   "cell_type": "code",
   "outputs": [],
   "execution_count": null,
   "source": "",
   "id": "5260bde7d4ec6ac6"
  }
 ],
 "metadata": {
  "kernelspec": {
   "display_name": "Python 3 (ipykernel)",
   "language": "python",
   "name": "python3"
  },
  "language_info": {
   "codemirror_mode": {
    "name": "ipython",
    "version": 3
   },
   "file_extension": ".py",
   "mimetype": "text/x-python",
   "name": "python",
   "nbconvert_exporter": "python",
   "pygments_lexer": "ipython3",
   "version": "3.10.12"
  }
 },
 "nbformat": 4,
 "nbformat_minor": 5
}
