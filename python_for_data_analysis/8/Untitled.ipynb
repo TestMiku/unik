{
 "cells": [
  {
   "cell_type": "code",
   "execution_count": null,
   "id": "05cda4fe-c8b6-4ac6-bbb3-c5e5e46bca24",
   "metadata": {},
   "outputs": [],
   "source": [
    "Nurhsanov Dias IT3-2208\n",
    "python 8 lab"
   ]
  },
  {
   "cell_type": "code",
   "execution_count": 1,
   "id": "17b8b8f5-3384-47bf-b697-a13e7a95bccc",
   "metadata": {},
   "outputs": [],
   "source": [
    "import pandas as pd\n",
    "\n",
    "customers=pd.read_excel(\"customers.xlsx\")\n",
    "phone_data=pd.read_csv(\"phone_data.csv\")\n",
    "items_ordered=pd.read_excel(\"items_ordered.xlsx\") #['customerid', 'order_date', 'item', 'quantity', 'price']\n",
    "\n",
    "items_ordered.price = pd.to_numeric(items_ordered.price, errors='coerce')\n",
    "items_ordered.order_date = pd.to_datetime(items_ordered.order_date, errors='coerce')"
   ]
  },
  {
   "cell_type": "code",
   "execution_count": null,
   "id": "8643634a-0594-4027-8e31-6d681bec7c9a",
   "metadata": {},
   "outputs": [],
   "source": [
    "# 1 Find the maximum price of any item ordered in the items_ordered. //1250.00\n",
    "items_ordered_max_price = items_ordered[\"price\"].max()\n",
    "\n",
    "# 2 Calculate the average price of all of the items ordered that were purchased in the month of Dec. //174.312500\n",
    "items_ordered_mean_price_december = items_ordered[items_ordered.order_date.dt.month==12].price.mean()\n",
    "\n",
    "# 3 What are the total number of rows in the items_ordered table? //32\n",
    "total_rows_items_ordered = len(items_ordered)\n",
    "\n",
    "# 4 For all of the tents that were ordered in the items_ordered table, what is the price of the lowest tent? //79.99\n",
    "min_for_tent = items_ordered[items_ordered.item=='Tent'].price.min()\n",
    "\n",
    "#5 How many people are in each unique state in the customers.xlsx? Indicate the state and display the number of people in each.\n",
    "states = customers.groupby(\"state\").size()\n",
    "\n",
    "# 6From the items_ordered table, select the item, maximum price, and minimum price\n",
    "#for each specific item in the table. Hint: The items will need to be broken\n",
    "#up into separate groups.\n",
    "items = items_ordered.groupby(\"item\")[\"price\"].agg(['max','mean'])\n",
    "\n",
    "#7 How many orders did each customer make? Use the items_ordered.\n",
    "#Find the customerid, number of orders they made, and the sum of their orders.\n",
    "customer_order_stats = items_ordered.groupby('customerid').agg(\n",
    "    number_of_orders=('order_date', 'size'),\n",
    "    total_order_sum=('price', 'sum')\n",
    ")\n",
    "\n",
    "print(\n",
    "    items_ordered_max_price,\n",
    "    items_ordered_mean_price_december,\n",
    "    total_rows_items_ordered,\n",
    "    min_for_tent,\n",
    "    states,\n",
    "    items,\n",
    "    customer_order_stats,\n",
    "\n",
    "    sep='\\n'\n",
    ")\n"
   ]
  }
 ],
 "metadata": {
  "kernelspec": {
   "display_name": "Python 3 (ipykernel)",
   "language": "python",
   "name": "python3"
  },
  "language_info": {
   "codemirror_mode": {
    "name": "ipython",
    "version": 3
   },
   "file_extension": ".py",
   "mimetype": "text/x-python",
   "name": "python",
   "nbconvert_exporter": "python",
   "pygments_lexer": "ipython3",
   "version": "3.12.7"
  }
 },
 "nbformat": 4,
 "nbformat_minor": 5
}
