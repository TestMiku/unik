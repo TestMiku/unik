{
 "cells": [
  {
   "cell_type": "code",
   "execution_count": null,
   "id": "07e3e4d0-868f-4a59-a293-be3c3fe8aa2c",
   "metadata": {},
   "outputs": [],
   "source": [
    "Computational Mathematic Lab 5 Methods for solving SLAE (Gaussian elimination and Gauss-Seidel)\n",
    "Nurshanov Dias\n",
    "IT3-2208"
   ]
  },
  {
   "cell_type": "code",
   "execution_count": 2,
   "id": "bc177a5a-0b59-4657-b4a3-039824e5d97d",
   "metadata": {},
   "outputs": [],
   "source": [
    "# 1) Implementation of each method.\n",
    "import numpy as np\n",
    "\n",
    "def gauss_seidel_modified(A, b, x0, tolerance=1e-4, max_iterations=100):\n",
    "    n = len(b)\n",
    "    x_current = np.array(x0)\n",
    "    \n",
    "    for iteration in range(max_iterations):\n",
    "        x_new = np.zeros_like(x_current)\n",
    "        \n",
    "        for i in range(n):\n",
    "            sum_previous = np.dot(A[i, :i], x_new[:i])\n",
    "            sum_current = np.dot(A[i, i + 1:], x_current[i + 1:])\n",
    "            x_new[i] = (b[i] - sum_previous - sum_current) / A[i, i]\n",
    "        \n",
    "        difference = np.linalg.norm(x_new - x_current, ord=np.inf)\n",
    "        if difference < tolerance:\n",
    "            return np.round(x_new, 4), iteration + 1\n",
    "        \n",
    "        x_current = x_new\n",
    "    \n",
    "    return np.round(x_current, 4), max_iterations\n",
    "\n",
    "def gaussian_elimination_modified(A, b):\n",
    "    n = len(b)\n",
    "    A = np.array(A, dtype=float)\n",
    "    b = np.array(b, dtype=float)\n",
    "    \n",
    "    for i in range(n):\n",
    "        for j in range(i + 1, n):\n",
    "            multiplier = A[j, i] / A[i, i]\n",
    "            A[j, i:] -= multiplier * A[i, i:]\n",
    "            b[j] -= multiplier * b[i]\n",
    "    x = np.zeros(n)\n",
    "    for i in range(n - 1, -1, -1):\n",
    "        x[i] = (b[i] - np.dot(A[i, i + 1:], x[i + 1:])) / A[i, i]\n",
    "    \n",
    "    return np.round(x, 4)\n"
   ]
  },
  {
   "cell_type": "code",
   "execution_count": 5,
   "id": "eb7c8982-661f-4329-8cfd-779eb3f23bb1",
   "metadata": {},
   "outputs": [
    {
     "name": "stdout",
     "output_type": "stream",
     "text": [
      "Gauss-Seidel solution: [1.7333 1.4667 1.6667]\n",
      "Iterations: 8\n",
      "Gaussian Elimination solution: [1.7333 1.4667 1.6667]\n"
     ]
    }
   ],
   "source": [
    "#2) Output of the code.\n",
    "A = np.array([\n",
    "    [3, 1, 2],\n",
    "    [2, 4, 1],\n",
    "    [1, 2, 5]\n",
    "], dtype=float)\n",
    "\n",
    "b = np.array([10, 11, 13], dtype=float)\n",
    "x0 = np.zeros_like(b)\n",
    "\n",
    "# Gauss-Seidel solution\n",
    "solution_gs, iterations_gs = gauss_seidel_modified(A, b, x0)\n",
    "print(\"Gauss-Seidel solution:\", solution_gs)\n",
    "print(\"Iterations:\", iterations_gs)\n",
    "\n",
    "# Gaussian Elimination solution\n",
    "solution_ge = gaussian_elimination_modified(A, b)\n",
    "print(\"Gaussian Elimination solution:\", solution_ge)\n"
   ]
  },
  {
   "cell_type": "code",
   "execution_count": null,
   "id": "28e63d81-3110-4683-be64-a6bffca3dec6",
   "metadata": {},
   "outputs": [],
   "source": [
    "#3 solution by hand\n",
    "Gauss-Seidel Method - Solution by Hand (2 iterations)\n",
    "\n",
    "Initial guess:\n",
    "x1 = 0, x2 = 0, x3 = 0\n",
    "\n",
    "First Iteration:\n",
    "From equation 1: 3x1 + x2 + 2x3 = 10\n",
    "x1 = (10 - 0 - 2 * 0) / 3 = 3.333\n",
    "\n",
    "From equation 2: 2x1 + 4x2 + x3 = 11\n",
    "x2 = (11 - 2 * 3.333 - 0) / 4 = 1.083\n",
    "\n",
    "From equation 3: x1 + 2x2 + 5x3 = 13\n",
    "x3 = (13 - 3.333 - 2 * 1.083) / 5 = 1.500\n",
    "\n",
    "After first iteration:\n",
    "x1 = 3.333, x2 = 1.083, x3 = 1.500\n",
    "\n",
    "Second Iteration:\n",
    "From equation 1: 3x1 + x2 + 2x3 = 10\n",
    "x1 = (10 - 1.083 - 2 * 1.500) / 3 = 1.972\n",
    "\n",
    "From equation 2: 2x1 + 4x2 + x3 = 11\n",
    "x2 = (11 - 2 * 1.972 - 1.500) / 4 = 1.389\n",
    "\n",
    "From equation 3: x1 + 2x2 + 5x3 = 13\n",
    "x3 = (13 - 1.972 - 2 * 1.389) / 5 = 1.650\n",
    "\n",
    "After second iteration:\n",
    "x1 = 1.972, x2 = 1.389, x3 = 1.650\n"
   ]
  }
 ],
 "metadata": {
  "kernelspec": {
   "display_name": "Python 3 (ipykernel)",
   "language": "python",
   "name": "python3"
  },
  "language_info": {
   "codemirror_mode": {
    "name": "ipython",
    "version": 3
   },
   "file_extension": ".py",
   "mimetype": "text/x-python",
   "name": "python",
   "nbconvert_exporter": "python",
   "pygments_lexer": "ipython3",
   "version": "3.12.4"
  }
 },
 "nbformat": 4,
 "nbformat_minor": 5
}
