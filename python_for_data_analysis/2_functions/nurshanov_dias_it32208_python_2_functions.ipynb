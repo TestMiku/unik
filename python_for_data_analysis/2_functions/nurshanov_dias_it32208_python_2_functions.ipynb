{
 "cells": [
  {
   "cell_type": "code",
   "execution_count": null,
   "id": "3febb21e-3c90-4765-91a5-e1814ccfc939",
   "metadata": {},
   "outputs": [],
   "source": [
    "Python for data analysis  Lab 2 Functions\n",
    "Nurshanov Dias\n",
    "IT3-2208"
   ]
  },
  {
   "cell_type": "code",
   "execution_count": 2,
   "id": "c2386e41-04b0-449e-a699-f28fca94e807",
   "metadata": {
    "ExecuteTime": {
     "end_time": "2024-09-12T11:27:20.488360Z",
     "start_time": "2024-09-12T11:27:20.477361Z"
    }
   },
   "outputs": [],
   "source": [
    "# Exercise 1)\n",
    "def calculate_values_rectangle(height:int, width:int) -> tuple[float]:\n",
    "    import math\n",
    "    area = height * width\n",
    "    perimeter = 2 * (height + width)\n",
    "    diagonal_length = math.sqrt(height**2 + width**2)\n",
    "    \n",
    "    return (\n",
    "        area,\n",
    "        perimeter,\n",
    "        diagonal_length\n",
    "    )\n",
    "\n",
    "\n",
    "def calculate_values_circle(radius:int) -> tuple[float]:\n",
    "    import math\n",
    "    area = math.pi * radius**2\n",
    "    circle_circumference = 2 * math.pi * radius\n",
    "    \n",
    "    return (\n",
    "        area,\n",
    "        circle_circumference\n",
    "    )\n",
    "\n",
    "\n",
    "def calculate_values_right_triangle(length:int) -> tuple[float]:\n",
    "    import math\n",
    "    area = math.sqrt(3)/4 * length**2\n",
    "    perimeter = 3*length\n",
    "    \n",
    "    return (\n",
    "        area,\n",
    "        perimeter\n",
    "    )\n",
    "\n",
    "\n",
    "def calculate_values_regular_polygon(number: int, length: int) -> tuple[float, float, float, float]:\n",
    "    import math\n",
    "    \n",
    "    outer_angle = 360 / number\n",
    "    inner_angle = 180 - outer_angle\n",
    "    inner_angles_sum = (number - 2) * 180\n",
    "    area = (number * length ** 2) / (4 * math.tan(math.pi / number))\n",
    "    \n",
    "    return (\n",
    "        outer_angle,\n",
    "        inner_angles_sum,\n",
    "        inner_angle,\n",
    "        area\n",
    "    )\n"
   ]
  },
  {
   "cell_type": "code",
   "execution_count": 3,
   "id": "41643178-ab1d-42ac-889c-fe027d2c4ae2",
   "metadata": {
    "ExecuteTime": {
     "end_time": "2024-09-12T11:27:21.169576Z",
     "start_time": "2024-09-12T11:27:21.159439Z"
    }
   },
   "outputs": [
    {
     "name": "stdout",
     "output_type": "stream",
     "text": [
      "\n",
      "The area of a rectangle with height 2 and width 3 is 6\n",
      "The perimeter of a rectangle with height 2 and width 3 is 10\n",
      "The diagonal length of a rectangle with height 2 and width 3 is 3.605551275463989\n",
      "\n",
      "\n",
      "The area of a circle with radius 2 is 6\n",
      "The circumference of a circle with radius 2 is 10\n",
      "\n",
      "\n",
      "The area of a right triangle with length 1 is 6\n",
      "The perimeter of a right triangle with length 1 is 10\n",
      "\n",
      "\n",
      "The exterior angle of a regular polygon with 8 sides and 5 side length is 45.0\n",
      "The sum of the interior angles of a regular polygon with 8 sides and 5 side length is 1080\n",
      "The interior angle of a regular polygon with 8 sides and 5 side length is 135.0\n",
      "The area of a regular polygon with 8 sides and 5 side length is 120.71067811865476\n",
      "\n"
     ]
    }
   ],
   "source": [
    "rectangle = {\n",
    "    \"height\":2,\n",
    "    \"width\":3\n",
    "}\n",
    "circle = {\n",
    "    \"radius\":2\n",
    "}\n",
    "right_triangle = {\n",
    "    \"length\":1\n",
    "}\n",
    "regular_polynom = {\n",
    "    \"number of sides\":8,\n",
    "    \"length of sides\":5\n",
    "}\n",
    "print(\"\"\"\n",
    "The area of a rectangle with height {rect[height]} and width {rect[width]} is {0}\n",
    "The perimeter of a rectangle with height {rect[height]} and width {rect[width]} is {1}\n",
    "The diagonal length of a rectangle with height {rect[height]} and width {rect[width]} is {2}\n",
    "\"\"\".format(*calculate_values_rectangle(*rectangle.values()), rect=rectangle))\n",
    "\n",
    "\n",
    "print(\"\"\"\n",
    "The area of a circle with radius {circ[radius]} is {0}\n",
    "The circumference of a circle with radius {circ[radius]} is {1}\n",
    "\"\"\".format(*calculate_values_rectangle(*rectangle.values()), circ=circle))\n",
    "\n",
    "\n",
    "print(\"\"\"\n",
    "The area of a right triangle with length {tri[length]} is {0}\n",
    "The perimeter of a right triangle with length {tri[length]} is {1}\n",
    "\"\"\".format(*calculate_values_rectangle(*rectangle.values()), tri=right_triangle))\n",
    "\n",
    "\n",
    "print(\"\"\"\n",
    "The exterior angle of a regular polygon with {poly[number of sides]} sides and {poly[length of sides]} side length is {0}\n",
    "The sum of the interior angles of a regular polygon with {poly[number of sides]} sides and {poly[length of sides]} side length is {1}\n",
    "The interior angle of a regular polygon with {poly[number of sides]} sides and {poly[length of sides]} side length is {2}\n",
    "The area of a regular polygon with {poly[number of sides]} sides and {poly[length of sides]} side length is {3}\n",
    "\"\"\".format(*calculate_values_regular_polygon(*regular_polynom.values()), poly=regular_polynom))"
   ]
  },
  {
   "cell_type": "code",
   "execution_count": 12,
   "id": "19d0f16c-e928-4f99-b1a1-68cee6a384a9",
   "metadata": {},
   "outputs": [],
   "source": [
    "# Exercise 2)\n",
    "def  buy_card(value: int) -> int:\n",
    "    match value:\n",
    "        case value if value < 0:\n",
    "            return 0\n",
    "        case value if value < 10:\n",
    "            return value\n",
    "        case value if value < 25:\n",
    "            return value + 3\n",
    "        case value if value < 50:\n",
    "            return value + 8\n",
    "        case value if value < 100:\n",
    "            return value + 20\n",
    "        case value if value >= 100:\n",
    "            return value + 25"
   ]
  },
  {
   "cell_type": "code",
   "execution_count": 13,
   "id": "fa5adb44-9ffc-4182-ad5c-fee343c10f4d",
   "metadata": {},
   "outputs": [
    {
     "name": "stdout",
     "output_type": "stream",
     "text": [
      "Your card was charged -5 dollars, and you got 0 dollars in your calling card.\n",
      "Your card was charged 9 dollars, and you got 9 dollars in your calling card.\n",
      "Your card was charged 24 dollars, and you got 27 dollars in your calling card.\n",
      "Your card was charged 49 dollars, and you got 57 dollars in your calling card.\n",
      "Your card was charged 99 dollars, and you got 119 dollars in your calling card.\n",
      "Your card was charged 100 dollars, and you got 125 dollars in your calling card.\n",
      "Your card was charged 150 dollars, and you got 175 dollars in your calling card.\n"
     ]
    }
   ],
   "source": [
    "test_values = [-5, 9, 24, 49, 99, 100, 150]\n",
    "\n",
    "for value in test_values:\n",
    "    charged_value = buy_card(value)\n",
    "    print(f\"Your card was charged {value} dollars, and you got {charged_value} dollars in your calling card.\")"
   ]
  },
  {
   "cell_type": "code",
   "execution_count": 5,
   "id": "7995fefa-4abd-4f9c-95c4-1662a21c3d63",
   "metadata": {},
   "outputs": [
    {
     "name": "stdout",
     "output_type": "stream",
     "text": [
      "Russian peasant multiplication of 8 and 38 is equal 304\n",
      "\n",
      "Recursive multiplication of 8 and 38 is equal 304\n"
     ]
    }
   ],
   "source": [
    "# Exercise 3)\n",
    "def multiply(a:int, b:int):\n",
    "    result = 0\n",
    "    while a > 0:\n",
    "        if a%2==1:\n",
    "            result += b\n",
    "        a //= 2\n",
    "        b *= 2\n",
    "    return result\n",
    "\n",
    "\n",
    "def recursive_miltiply(a,b):\n",
    "    if a==0:\n",
    "        return 0\n",
    "    elif a % 2==0:\n",
    "        return recursive_miltiply(a/2, 2*b)\n",
    "    else:\n",
    "        return recursive_miltiply((a-1)/2, 2 * b) + b\n",
    "\n",
    "a = 8\n",
    "b =38\n",
    "print(f\"Russian peasant multiplication of {a} and {b} is equal {multiply(a,b)}\",end='\\n\\n')\n",
    "print(f\"Recursive multiplication of {a} and {b} is equal {multiply(a,b)}\")"
   ]
  },
  {
   "cell_type": "code",
   "execution_count": null,
   "id": "fabdd25d-7d1e-415a-abeb-3ea804e3e7a9",
   "metadata": {},
   "outputs": [],
   "source": []
  }
 ],
 "metadata": {
  "kernelspec": {
   "display_name": "Python 3 (ipykernel)",
   "language": "python",
   "name": "python3"
  },
  "language_info": {
   "codemirror_mode": {
    "name": "ipython",
    "version": 3
   },
   "file_extension": ".py",
   "mimetype": "text/x-python",
   "name": "python",
   "nbconvert_exporter": "python",
   "pygments_lexer": "ipython3",
   "version": "3.10.12"
  }
 },
 "nbformat": 4,
 "nbformat_minor": 5
}
