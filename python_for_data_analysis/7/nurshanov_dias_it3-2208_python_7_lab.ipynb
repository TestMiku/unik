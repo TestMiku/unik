{
 "cells": [
  {
   "cell_type": "code",
   "execution_count": null,
   "id": "2efecfef-90c7-488e-9d7d-645bdbf2ca74",
   "metadata": {},
   "outputs": [],
   "source": [
    "Nurshanov Dias IT3-2208\n",
    "python 7 lab"
   ]
  },
  {
   "cell_type": "code",
   "execution_count": 49,
   "id": "176a92d8-071e-4acf-ba9a-edd09ad066f9",
   "metadata": {},
   "outputs": [
    {
     "name": "stdout",
     "output_type": "stream",
     "text": [
      "zsh:1: number expected\n"
     ]
    }
   ],
   "source": [
    "Create a results table (order by the count of gold medals) of Summer Olympic Games in the particular years: 1912,1972,2000 \n",
    "with respect to the medals type and country.\n",
    "1) join medals and ioc_codes \n",
    "2) 1912,1972,2000\n",
    "3) order count of gold medals"
   ]
  },
  {
   "cell_type": "code",
   "execution_count": 50,
   "id": "c7d963ce-9914-4127-aa2e-f85f85cfac0d",
   "metadata": {},
   "outputs": [],
   "source": [
    "import pandas as pd\n",
    "editions = pd.read_csv(\"Summer Olympic medalists 1896 to 2008 - EDITIONS.tsv\", sep=\"\\t\", engine='python')\n",
    "editions = editions[['Edition', 'Grand Total', 'City', 'Country']]\n",
    "\n",
    "ioc_codes = pd.read_csv('Summer Olympic medalists 1896 to 2008 - IOC COUNTRY CODES.csv')\n",
    "ioc_codes = ioc_codes[['Country', 'NOC']]\n",
    "\n",
    "medals = pd.read_csv('Summer Olympic medalists 1896 to 2008 - ALL MEDALISTS.tsv', sep='\\t', header=4)\n",
    "medals = medals[['Athlete', 'NOC', 'Medal', 'Edition']]"
   ]
  },
  {
   "cell_type": "code",
   "execution_count": 51,
   "id": "e93f44e2-0813-4ec1-8b19-005ee252397f",
   "metadata": {},
   "outputs": [
    {
     "data": {
      "text/html": [
       "<div>\n",
       "<style scoped>\n",
       "    .dataframe tbody tr th:only-of-type {\n",
       "        vertical-align: middle;\n",
       "    }\n",
       "\n",
       "    .dataframe tbody tr th {\n",
       "        vertical-align: top;\n",
       "    }\n",
       "\n",
       "    .dataframe thead th {\n",
       "        text-align: right;\n",
       "    }\n",
       "</style>\n",
       "<table border=\"1\" class=\"dataframe\">\n",
       "  <thead>\n",
       "    <tr style=\"text-align: right;\">\n",
       "      <th></th>\n",
       "      <th>Country</th>\n",
       "      <th>NOC</th>\n",
       "    </tr>\n",
       "  </thead>\n",
       "  <tbody>\n",
       "    <tr>\n",
       "      <th>0</th>\n",
       "      <td>Afghanistan</td>\n",
       "      <td>AFG</td>\n",
       "    </tr>\n",
       "    <tr>\n",
       "      <th>1</th>\n",
       "      <td>Albania</td>\n",
       "      <td>ALB</td>\n",
       "    </tr>\n",
       "    <tr>\n",
       "      <th>2</th>\n",
       "      <td>Algeria</td>\n",
       "      <td>ALG</td>\n",
       "    </tr>\n",
       "    <tr>\n",
       "      <th>3</th>\n",
       "      <td>American Samoa*</td>\n",
       "      <td>ASA</td>\n",
       "    </tr>\n",
       "    <tr>\n",
       "      <th>4</th>\n",
       "      <td>Andorra</td>\n",
       "      <td>AND</td>\n",
       "    </tr>\n",
       "  </tbody>\n",
       "</table>\n",
       "</div>"
      ],
      "text/plain": [
       "           Country  NOC\n",
       "0      Afghanistan  AFG\n",
       "1          Albania  ALB\n",
       "2          Algeria  ALG\n",
       "3  American Samoa*  ASA\n",
       "4          Andorra  AND"
      ]
     },
     "execution_count": 51,
     "metadata": {},
     "output_type": "execute_result"
    }
   ],
   "source": [
    "ioc_codes.head()"
   ]
  },
  {
   "cell_type": "code",
   "execution_count": 52,
   "id": "239f55b2-28b5-41a6-b59c-24adbc78e4fd",
   "metadata": {},
   "outputs": [
    {
     "data": {
      "text/html": [
       "<div>\n",
       "<style scoped>\n",
       "    .dataframe tbody tr th:only-of-type {\n",
       "        vertical-align: middle;\n",
       "    }\n",
       "\n",
       "    .dataframe tbody tr th {\n",
       "        vertical-align: top;\n",
       "    }\n",
       "\n",
       "    .dataframe thead th {\n",
       "        text-align: right;\n",
       "    }\n",
       "</style>\n",
       "<table border=\"1\" class=\"dataframe\">\n",
       "  <thead>\n",
       "    <tr style=\"text-align: right;\">\n",
       "      <th></th>\n",
       "      <th>Athlete</th>\n",
       "      <th>NOC</th>\n",
       "      <th>Medal</th>\n",
       "      <th>Edition</th>\n",
       "    </tr>\n",
       "  </thead>\n",
       "  <tbody>\n",
       "    <tr>\n",
       "      <th>0</th>\n",
       "      <td>HAJOS, Alfred</td>\n",
       "      <td>HUN</td>\n",
       "      <td>Gold</td>\n",
       "      <td>1896</td>\n",
       "    </tr>\n",
       "    <tr>\n",
       "      <th>1</th>\n",
       "      <td>HERSCHMANN, Otto</td>\n",
       "      <td>AUT</td>\n",
       "      <td>Silver</td>\n",
       "      <td>1896</td>\n",
       "    </tr>\n",
       "    <tr>\n",
       "      <th>2</th>\n",
       "      <td>DRIVAS, Dimitrios</td>\n",
       "      <td>GRE</td>\n",
       "      <td>Bronze</td>\n",
       "      <td>1896</td>\n",
       "    </tr>\n",
       "    <tr>\n",
       "      <th>3</th>\n",
       "      <td>MALOKINIS, Ioannis</td>\n",
       "      <td>GRE</td>\n",
       "      <td>Gold</td>\n",
       "      <td>1896</td>\n",
       "    </tr>\n",
       "    <tr>\n",
       "      <th>4</th>\n",
       "      <td>CHASAPIS, Spiridon</td>\n",
       "      <td>GRE</td>\n",
       "      <td>Silver</td>\n",
       "      <td>1896</td>\n",
       "    </tr>\n",
       "  </tbody>\n",
       "</table>\n",
       "</div>"
      ],
      "text/plain": [
       "              Athlete  NOC   Medal  Edition\n",
       "0       HAJOS, Alfred  HUN    Gold     1896\n",
       "1    HERSCHMANN, Otto  AUT  Silver     1896\n",
       "2   DRIVAS, Dimitrios  GRE  Bronze     1896\n",
       "3  MALOKINIS, Ioannis  GRE    Gold     1896\n",
       "4  CHASAPIS, Spiridon  GRE  Silver     1896"
      ]
     },
     "execution_count": 52,
     "metadata": {},
     "output_type": "execute_result"
    }
   ],
   "source": [
    "medals.head()"
   ]
  },
  {
   "cell_type": "code",
   "execution_count": 53,
   "id": "6164acc1-1b5c-4f18-9d0c-20c02314aa28",
   "metadata": {},
   "outputs": [
    {
     "data": {
      "text/html": [
       "<div>\n",
       "<style scoped>\n",
       "    .dataframe tbody tr th:only-of-type {\n",
       "        vertical-align: middle;\n",
       "    }\n",
       "\n",
       "    .dataframe tbody tr th {\n",
       "        vertical-align: top;\n",
       "    }\n",
       "\n",
       "    .dataframe thead th {\n",
       "        text-align: right;\n",
       "    }\n",
       "</style>\n",
       "<table border=\"1\" class=\"dataframe\">\n",
       "  <thead>\n",
       "    <tr style=\"text-align: right;\">\n",
       "      <th></th>\n",
       "      <th>Edition</th>\n",
       "      <th>Grand Total</th>\n",
       "      <th>City</th>\n",
       "      <th>Country</th>\n",
       "    </tr>\n",
       "  </thead>\n",
       "  <tbody>\n",
       "    <tr>\n",
       "      <th>0</th>\n",
       "      <td>1896</td>\n",
       "      <td>151</td>\n",
       "      <td>Athens</td>\n",
       "      <td>Greece</td>\n",
       "    </tr>\n",
       "    <tr>\n",
       "      <th>1</th>\n",
       "      <td>1900</td>\n",
       "      <td>512</td>\n",
       "      <td>Paris</td>\n",
       "      <td>France</td>\n",
       "    </tr>\n",
       "    <tr>\n",
       "      <th>2</th>\n",
       "      <td>1904</td>\n",
       "      <td>470</td>\n",
       "      <td>St. Louis</td>\n",
       "      <td>United States</td>\n",
       "    </tr>\n",
       "    <tr>\n",
       "      <th>3</th>\n",
       "      <td>1908</td>\n",
       "      <td>804</td>\n",
       "      <td>London</td>\n",
       "      <td>United Kingdom</td>\n",
       "    </tr>\n",
       "    <tr>\n",
       "      <th>4</th>\n",
       "      <td>1912</td>\n",
       "      <td>885</td>\n",
       "      <td>Stockholm</td>\n",
       "      <td>Sweden</td>\n",
       "    </tr>\n",
       "  </tbody>\n",
       "</table>\n",
       "</div>"
      ],
      "text/plain": [
       "   Edition  Grand Total       City         Country\n",
       "0     1896          151     Athens          Greece\n",
       "1     1900          512      Paris          France\n",
       "2     1904          470  St. Louis   United States\n",
       "3     1908          804     London  United Kingdom\n",
       "4     1912          885  Stockholm          Sweden"
      ]
     },
     "execution_count": 53,
     "metadata": {},
     "output_type": "execute_result"
    }
   ],
   "source": [
    "editions.head()"
   ]
  },
  {
   "cell_type": "code",
   "execution_count": 54,
   "id": "d0761214-ada8-4683-a66b-2535cf390c37",
   "metadata": {},
   "outputs": [
    {
     "name": "stdout",
     "output_type": "stream",
     "text": [
      "Medal  Edition              Country  Bronze  Gold  Silver\n",
      "132       2000        United States      52   130      66\n",
      "13        1912               Sweden      25    86      62\n",
      "117       2000               Russia      54    66      68\n",
      "61        2000            Australia      54    60      69\n",
      "57        1972        United States      43    53      59\n",
      "..         ...                  ...     ...   ...     ...\n",
      "123       2000            Sri Lanka       0     0       1\n",
      "126       2000               Taiwan       4     0       1\n",
      "128       2000  Trinidad and Tobago       1     0       1\n",
      "133       2000              Uruguay       0     0       1\n",
      "135       2000              Vietnam       0     0       1\n",
      "\n",
      "[136 rows x 5 columns]\n"
     ]
    }
   ],
   "source": [
    "# 2) 1912,1972,2000\n",
    "medals = medals[medals['Edition'].isin([1912, 1972, 2000])]\n",
    "medals = medals.merge(ioc_codes, on='NOC', how='left')\n",
    "\n",
    "\n",
    "# 1) join medals and ioc_codes \n",
    "medals = (\n",
    "    medals.groupby(['Edition', 'Country', 'Medal'])\n",
    "    .size()\n",
    "    .unstack(fill_value=0)\n",
    "    .reset_index()\n",
    ")\n",
    "\n",
    "\n",
    "# 3) order count of gold medals\n",
    "medals = medals.sort_values(by='Gold', ascending=False)\n",
    "\n",
    "print(medals[['Edition', 'Country', 'Bronze', 'Gold', 'Silver']])\n"
   ]
  }
 ],
 "metadata": {
  "kernelspec": {
   "display_name": "Python 3 (ipykernel)",
   "language": "python",
   "name": "python3"
  },
  "language_info": {
   "codemirror_mode": {
    "name": "ipython",
    "version": 3
   },
   "file_extension": ".py",
   "mimetype": "text/x-python",
   "name": "python",
   "nbconvert_exporter": "python",
   "pygments_lexer": "ipython3",
   "version": "3.12.7"
  }
 },
 "nbformat": 4,
 "nbformat_minor": 5
}
