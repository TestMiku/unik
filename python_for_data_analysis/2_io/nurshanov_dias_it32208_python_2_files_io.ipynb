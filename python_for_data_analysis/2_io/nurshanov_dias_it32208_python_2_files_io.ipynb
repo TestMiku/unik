{
 "cells": [
  {
   "cell_type": "code",
   "execution_count": null,
   "id": "1d41bdb7-bf92-4a14-acde-c558694ab38e",
   "metadata": {},
   "outputs": [],
   "source": [
    "Python for data analysis Lab 2 IO Files\n",
    "Nurshanov Dias\n",
    "IT3-2208"
   ]
  },
  {
   "cell_type": "code",
   "execution_count": 2,
   "id": "e0c7b0f6-da6b-45b0-a9e5-8187d7dc9466",
   "metadata": {},
   "outputs": [
    {
     "name": "stdin",
     "output_type": "stream",
     "text": [
      "Enter the filename:  hello_world.txt\n",
      "Enter a line (leave empty to finish):  Hello World!\n",
      "Enter a line (leave empty to finish):  Hello World!\n",
      "Enter a line (leave empty to finish):  Salem Alem!\n",
      "Enter a line (leave empty to finish):  Hello World!\n",
      "Enter a line (leave empty to finish):  \n"
     ]
    },
    {
     "name": "stdout",
     "output_type": "stream",
     "text": [
      "Data has been written to the file hello_world.txt.\n"
     ]
    }
   ],
   "source": [
    "# 1) Exercise\n",
    "filename = input(\"Enter the filename: \")\n",
    "\n",
    "with open(filename, 'w') as file:\n",
    "    while True:\n",
    "        line = input(\"Enter a line (leave empty to finish): \")\n",
    "        if line == \"\":\n",
    "            break\n",
    "        file.write(line + \"\\n\")\n",
    "\n",
    "print(f\"Data has been written to the file {filename}.\")"
   ]
  },
  {
   "cell_type": "code",
   "execution_count": 3,
   "id": "ee52fcee-f619-46bd-b087-43d4b52574f1",
   "metadata": {},
   "outputs": [
    {
     "name": "stdin",
     "output_type": "stream",
     "text": [
      "Enter the filename:  hello_world.txt\n",
      "Enter the string to search for:  Hello World!\n"
     ]
    },
    {
     "name": "stdout",
     "output_type": "stream",
     "text": [
      "The string 'Hello World!' appears 3 times in the file 'hello_world.txt'.\n"
     ]
    }
   ],
   "source": [
    "# 2) Exercise\n",
    "def count_string_in_file(filename, search_string):\n",
    "    try:\n",
    "        with open(filename, 'r') as file:\n",
    "            content = file.read()\n",
    "            return content.count(search_string)\n",
    "    except FileNotFoundError:\n",
    "        return None\n",
    "\n",
    "filename = input(\"Enter the filename: \")\n",
    "\n",
    "search_string = input(\"Enter the string to search for: \")\n",
    "\n",
    "occurrences = count_string_in_file(filename, search_string)\n",
    "\n",
    "if occurrences is not None:\n",
    "    print(f\"The string '{search_string}' appears {occurrences} times in the file '{filename}'.\")\n"
   ]
  },
  {
   "cell_type": "code",
   "execution_count": 4,
   "id": "217fe289-03f1-453d-85ce-12e96014e605",
   "metadata": {},
   "outputs": [
    {
     "name": "stdout",
     "output_type": "stream",
     "text": [
      "Sum of integers written to output_task1.txt.\n"
     ]
    }
   ],
   "source": [
    "# Opttion 1 Task 1\n",
    "def sum_two_integers(input_filename, output_filename):\n",
    "    try:\n",
    "        with open(input_filename, 'r') as infile:\n",
    "            num1 = int(infile.readline().strip())\n",
    "            num2 = int(infile.readline().strip())\n",
    "\n",
    "        result = num1 + num2\n",
    "\n",
    "        with open(output_filename, 'w') as outfile:\n",
    "            outfile.write(str(result) + '\\n')\n",
    "\n",
    "        print(f\"Sum of integers written to {output_filename}.\")\n",
    "    except Exception as e:\n",
    "        print(f\"An error occurred: {e}\")\n",
    "\n",
    "sum_two_integers('input_task1.txt', 'output_task1.txt')"
   ]
  },
  {
   "cell_type": "code",
   "execution_count": 5,
   "id": "fbe00b46-b18c-4b8a-891c-e8b91c141675",
   "metadata": {},
   "outputs": [
    {
     "name": "stdout",
     "output_type": "stream",
     "text": [
      "Reversed string written to output_task2.txt.\n"
     ]
    }
   ],
   "source": [
    "# Opttion 1 Task 2\n",
    "def reverse_string(input_filename, output_filename):\n",
    "    try:\n",
    "        with open(input_filename, 'r') as infile:\n",
    "            text = infile.readline().strip()\n",
    "\n",
    "        reversed_text = text[::-1]\n",
    "\n",
    "        with open(output_filename, 'w') as outfile:\n",
    "            outfile.write(reversed_text + '\\n')\n",
    "\n",
    "        print(f\"Reversed string written to {output_filename}.\")\n",
    "    except Exception as e:\n",
    "        print(f\"An error occurred: {e}\")\n",
    "\n",
    "# Example usage\n",
    "reverse_string('input_task2.txt', 'output_task2.txt')"
   ]
  },
  {
   "cell_type": "code",
   "execution_count": 6,
   "id": "9252044f-960e-4748-beb8-225f20acbdb6",
   "metadata": {},
   "outputs": [
    {
     "name": "stdout",
     "output_type": "stream",
     "text": [
      "Sum of integers written to output_task1_o2.txt.\n"
     ]
    }
   ],
   "source": [
    "# Opttion 2 Task 1\n",
    "def sum_two_integers_o2(input_filename, output_filename):\n",
    "    try:\n",
    "        with open(input_filename, 'r') as infile:\n",
    "            content = infile.read()\n",
    "\n",
    "        numbers = [int(num) for num in content.split()]\n",
    "\n",
    "        result = sum(numbers)\n",
    "\n",
    "        with open(output_filename, 'w') as outfile:\n",
    "            outfile.write(str(result) + '\\n')\n",
    "\n",
    "        print(f\"Sum of integers written to {output_filename}.\")\n",
    "    except Exception as e:\n",
    "        print(f\"An error occurred: {e}\")\n",
    "\n",
    "\n",
    "sum_two_integers_o2('input_task1_o2.txt', 'output_task1_o2.txt')"
   ]
  },
  {
   "cell_type": "code",
   "execution_count": 7,
   "id": "7c6054ff-cc32-4934-a44e-5c54ef3ab8c0",
   "metadata": {},
   "outputs": [
    {
     "name": "stdout",
     "output_type": "stream",
     "text": [
      "Reversed lines written to output_task2_o2.txt.\n"
     ]
    }
   ],
   "source": [
    "# Opttion 2 Task 2\n",
    "def reverse_lines_in_file(input_filename, output_filename):\n",
    "    try:\n",
    "        with open(input_filename, 'r') as infile:\n",
    "            lines = infile.readlines()\n",
    "\n",
    "        reversed_lines = lines[::-1]\n",
    "\n",
    "        with open(output_filename, 'w') as outfile:\n",
    "            outfile.writelines(reversed_lines)\n",
    "\n",
    "        print(f\"Reversed lines written to {output_filename}.\")\n",
    "    except Exception as e:\n",
    "        print(f\"An error occurred: {e}\")\n",
    "\n",
    "reverse_lines_in_file('input_task2_o2.txt', 'output_task2_o2.txt')"
   ]
  },
  {
   "cell_type": "code",
   "execution_count": null,
   "id": "54fb8620-d3c1-4f4e-9c3d-3217b1eb712e",
   "metadata": {},
   "outputs": [],
   "source": []
  }
 ],
 "metadata": {
  "kernelspec": {
   "display_name": "Python 3 (ipykernel)",
   "language": "python",
   "name": "python3"
  },
  "language_info": {
   "codemirror_mode": {
    "name": "ipython",
    "version": 3
   },
   "file_extension": ".py",
   "mimetype": "text/x-python",
   "name": "python",
   "nbconvert_exporter": "python",
   "pygments_lexer": "ipython3",
   "version": "3.10.12"
  }
 },
 "nbformat": 4,
 "nbformat_minor": 5
}
