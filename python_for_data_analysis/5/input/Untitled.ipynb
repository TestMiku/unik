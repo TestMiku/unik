{
 "cells": [
  {
   "cell_type": "code",
   "execution_count": 2,
   "id": "6e336a13-baca-42be-a524-2cfd6b709d01",
   "metadata": {},
   "outputs": [
    {
     "ename": "SyntaxError",
     "evalue": "invalid syntax (1609480291.py, line 1)",
     "output_type": "error",
     "traceback": [
      "\u001b[0;36m  Cell \u001b[0;32mIn[2], line 1\u001b[0;36m\u001b[0m\n\u001b[0;31m    Python for data analysis Lab 5\u001b[0m\n\u001b[0m           ^\u001b[0m\n\u001b[0;31mSyntaxError\u001b[0m\u001b[0;31m:\u001b[0m invalid syntax\n"
     ]
    }
   ],
   "source": [
    "Python for data analysis Lab 5\n",
    "Nurshanov Dias\n",
    "IT3-2208"
   ]
  },
  {
   "cell_type": "code",
   "execution_count": 6,
   "id": "83419dc7-b8fa-43ca-a32d-c0e18911fc30",
   "metadata": {},
   "outputs": [],
   "source": [
    "import pandas as pd\n",
    "#1 exercise Load auto-mpg.data into a DataFrame autodf.\n",
    "\n",
    "autodf = pd.read_csv('auto-mpg.csv', sep=',', on_bad_lines='skip')"
   ]
  },
  {
   "cell_type": "code",
   "execution_count": 24,
   "id": "03a84ff4-7926-4932-abcd-41af34b2ec2c",
   "metadata": {},
   "outputs": [
    {
     "name": "stdout",
     "output_type": "stream",
     "text": [
      "Give description of the generated DataFrame autodf. (Description-> Main Statistics) .describe() OR aggregate()\n",
      "Display the first 10 rows of the DataFrame autodf. head(10)\n",
      "4i\n",
      "Replace the missing values by a value before that. method = 'pad'\n",
      "     %mpg  cylinders  displacement  horsepower  weight  acceleration  \\\n",
      "0    18.0          8         307.0       130.0  3504.0          12.0   \n",
      "1    15.0          8         350.0       165.0  3693.0          11.5   \n",
      "2    18.0          8         318.0       150.0  3436.0          11.0   \n",
      "3    16.0          8         304.0       150.0  3433.0          12.0   \n",
      "4    17.0          8         302.0       140.0  3449.0          10.5   \n",
      "..    ...        ...           ...         ...     ...           ...   \n",
      "387  27.0          4         140.0        86.0  2790.0          15.6   \n",
      "388  44.0          4          97.0        52.0  2130.0          24.6   \n",
      "389  32.0          4         135.0        84.0  2295.0          11.6   \n",
      "390  28.0          4         120.0        79.0  2625.0          18.6   \n",
      "391  31.0          4         119.0        82.0  2720.0          19.4   \n",
      "\n",
      "     model year  origin                   car name  \n",
      "0            70       1  chevrolet chevelle malibu  \n",
      "1            70       1          buick skylark 320  \n",
      "2            70       1         plymouth satellite  \n",
      "3            70       1              amc rebel sst  \n",
      "4            70       1                ford torino  \n",
      "..          ...     ...                        ...  \n",
      "387          82       1            ford mustang gl  \n",
      "388          82       2                  vw pickup  \n",
      "389          82       1              dodge rampage  \n",
      "390          82       1                ford ranger  \n",
      "391          82       1                 chevy s-10  \n",
      "\n",
      "[392 rows x 9 columns]\n"
     ]
    },
    {
     "name": "stderr",
     "output_type": "stream",
     "text": [
      "/tmp/ipykernel_42367/3438413841.py:18: FutureWarning: DataFrame.fillna with 'method' is deprecated and will raise in a future version. Use obj.ffill() or obj.bfill() instead.\n",
      "  print(autodf.fillna(method='pad'))\n"
     ]
    }
   ],
   "source": [
    "#2 exercise Give description of the generated DataFrame autodf. (Description-> Main Statistics) .describe() OR aggregate()\n",
    "print('Give description of the generated DataFrame autodf. (Description-> Main Statistics) .describe() OR aggregate()')\n",
    "# print(autodf.describe())\n",
    "\n",
    "#3 exercise Display the first 10 rows of the DataFrame autodf. head(10)\n",
    "print('Display the first 10 rows of the DataFrame autodf. head(10)')\n",
    "# print(autodf.head(10))\n",
    "\n",
    "\n",
    "'''4 exercise\n",
    "Find the attributes which have missing values. Handle the missing values using following two ways:\n",
    "i. Replace the missing values by a value before that. method = 'pad'\n",
    "ii. Remove the rows having missing values from the original dataset dropna()\n",
    "'''\n",
    "\n",
    "print(\"\"\"4i\n",
    "Replace the missing values by a value before that. method = 'pad'\"\"\")\n",
    "# print(autodf.fillna(method='pad'))\n",
    "# autodf.dropna(inplace=True)\n",
    "\n",
    "print('3 exercise) Print the details of the car which gave the maximum mileage.')\n",
    "\n"
   ]
  }
 ],
 "metadata": {
  "kernelspec": {
   "display_name": "Python 3 (ipykernel)",
   "language": "python",
   "name": "python3"
  },
  "language_info": {
   "codemirror_mode": {
    "name": "ipython",
    "version": 3
   },
   "file_extension": ".py",
   "mimetype": "text/x-python",
   "name": "python",
   "nbconvert_exporter": "python",
   "pygments_lexer": "ipython3",
   "version": "3.12.4"
  }
 },
 "nbformat": 4,
 "nbformat_minor": 5
}
