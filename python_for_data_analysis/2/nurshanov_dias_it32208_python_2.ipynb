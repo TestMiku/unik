{
 "cells": [
  {
   "cell_type": "code",
   "execution_count": null,
   "id": "a4358ab0-cf87-4a50-ab83-d56595166710",
   "metadata": {},
   "outputs": [],
   "source": [
    "Python for data analysis Lab 2\n",
    "Nurshanov Dias\n",
    "IT3-2208"
   ]
  },
  {
   "cell_type": "code",
   "execution_count": 17,
   "id": "6f8ef740-7d73-4f87-96cd-e17d6fbcd955",
   "metadata": {},
   "outputs": [],
   "source": [
    "def multiply_tuples(tup1: tuple, tup2: tuple):\n",
    "    if len(tup1) < 2 or len(tup2) < 2:\n",
    "        print('Both tuples must contain 2 elements.')\n",
    "        return None\n",
    "    numerator = tup1[0] * tup2[0]\n",
    "    denominator = tup1[1] * tup2[1]\n",
    "    return f'{numerator}/{denominator}'\n",
    "\n",
    "\n",
    "def divide_tuples(tup1: tuple, tup2: tuple):\n",
    "    if len(tup1) < 2 or len(tup2) < 2:\n",
    "        print('Both tuples must contain 2 elements.')\n",
    "        return None\n",
    "    numerator = tup1[0] * tup2[1]\n",
    "    denominator = tup1[1] * tup2[0]\n",
    "    return f'{numerator}/{denominator}'\n",
    "\n",
    "def get_smallest_fraction(fractions):\n",
    "    return min(fractions, key=lambda frac: frac[0] / frac[1])"
   ]
  },
  {
   "cell_type": "code",
   "execution_count": 18,
   "id": "26ae5132-f312-4f71-9f11-02963cb29292",
   "metadata": {},
   "outputs": [
    {
     "name": "stdin",
     "output_type": "stream",
     "text": [
      "Enter the first fraction like (1/3, 52/1, and so on):  1/3\n",
      "Enter the second fraction like (1/3, 52/1, and so on):  2/10\n"
     ]
    },
    {
     "name": "stdout",
     "output_type": "stream",
     "text": [
      "1.1 Exercise\n",
      "Multiplication of the fractions: 2/30\n"
     ]
    }
   ],
   "source": [
    "#Exercise 1.1)\n",
    "\n",
    "fraction1 = input('Enter the first fraction like (1/3, 52/1, and so on): ')\n",
    "fraction2 = input('Enter the second fraction like (1/3, 52/1, and so on): ')\n",
    "\n",
    "fraction1 = tuple(map(int, fraction1.split('/')))\n",
    "fraction2 = tuple(map(int, fraction2.split('/')))\n",
    "\n",
    "#Ex 1.1\n",
    "print('1.1 Exercise')\n",
    "print(f'Multiplication of the fractions: {multiply_tuples(fraction1, fraction2)}')\n"
   ]
  },
  {
   "cell_type": "code",
   "execution_count": 19,
   "id": "eeac81b3-2eba-41d2-b0df-9ea68b25a861",
   "metadata": {},
   "outputs": [
    {
     "name": "stdout",
     "output_type": "stream",
     "text": [
      "1.2 Exercise\n",
      "Division of the fractions: 10/6\n"
     ]
    }
   ],
   "source": [
    "#Exercise 1.2)\n",
    "print('1.2 Exercise')\n",
    "print(f'Division of the fractions: {divide_tuples(fraction1, fraction2)}')"
   ]
  },
  {
   "cell_type": "code",
   "execution_count": 20,
   "id": "71d123f6-5f4d-423e-8966-988e87395f3f",
   "metadata": {},
   "outputs": [
    {
     "name": "stdout",
     "output_type": "stream",
     "text": [
      "1.3 Exercise\n"
     ]
    },
    {
     "name": "stdin",
     "output_type": "stream",
     "text": [
      "Enter a fraction >>>  1/3\n",
      "Enter a fraction >>>  1/2\n",
      "Enter a fraction >>>  1/4\n",
      "Enter a fraction >>>  1/5\n",
      "Enter a fraction >>>  stop\n"
     ]
    },
    {
     "name": "stdout",
     "output_type": "stream",
     "text": [
      "Smallest fraction: 1/5\n"
     ]
    }
   ],
   "source": [
    "#Exercise 1.3)\n",
    "print('1.3 Exercise')\n",
    "fractions = []\n",
    "while True:\n",
    "    fraction_input = input(\"Enter a fraction >>> \")\n",
    "\n",
    "    if fraction_input.lower() == \"stop\":\n",
    "        break\n",
    "\n",
    "    try:\n",
    "        num, den = map(int, fraction_input.split('/'))\n",
    "        fractions.append((num, den))\n",
    "    except ValueError:\n",
    "        print(\"Please enter a valid fraction in the format numerator/denominator\")\n",
    "\n",
    "if fractions:\n",
    "    smallest_fraction = get_smallest_fraction(fractions)\n",
    "    print(f\"Smallest fraction: {smallest_fraction[0]}/{smallest_fraction[1]}\")\n",
    "else:\n",
    "    print(\"No fractions were entered.\")"
   ]
  },
  {
   "cell_type": "code",
   "execution_count": 22,
   "id": "36afdec5-7fa7-42ee-8cab-9b6dd06bc3f5",
   "metadata": {},
   "outputs": [
    {
     "name": "stdout",
     "output_type": "stream",
     "text": [
      "2 Exercise\n"
     ]
    },
    {
     "name": "stdin",
     "output_type": "stream",
     "text": [
      "Input a number >>>  1\n",
      "Input a number >>>  2\n",
      "Input a number >>>  3\n",
      "Input a number >>>  -100\n",
      "Input a number >>>  hello world\n"
     ]
    },
    {
     "name": "stdout",
     "output_type": "stream",
     "text": [
      "Please enter a valid integer or 'stop' to finish.\n"
     ]
    },
    {
     "name": "stdin",
     "output_type": "stream",
     "text": [
      "Input a number >>>  stop\n"
     ]
    },
    {
     "name": "stdout",
     "output_type": "stream",
     "text": [
      "All numbers: [1, 2, 3, -100]\n",
      "Average of all numbers: -23.5\n",
      "Sum of all numbers: -94\n",
      "\n",
      "Even numbers: [2, -100]\n",
      "Average of even numbers: -49.0\n",
      "Sum of even numbers: -98\n",
      "\n",
      "Odd numbers: [1, 3]\n",
      "Average of odd numbers: 2.0\n",
      "Sum of odd numbers: 4\n",
      "\n"
     ]
    }
   ],
   "source": [
    "import numpy as np\n",
    "\n",
    "\n",
    "nums_all = []\n",
    "print('2 Exercise')\n",
    "while True:\n",
    "    value = input(\"Input a number >>> \")\n",
    "\n",
    "    if value.lower() == \"stop\":\n",
    "        break\n",
    "\n",
    "    try:\n",
    "        num = int(value)\n",
    "        nums_all.append(num)\n",
    "    except ValueError:\n",
    "        print(\"Please enter a valid integer or 'stop' to finish.\")\n",
    "\n",
    "nums_all_np = np.array(nums_all)\n",
    "nums_even_np = nums_all_np[nums_all_np % 2 == 0]\n",
    "nums_odd_np = nums_all_np[nums_all_np % 2 != 0]\n",
    "\n",
    "sum_all = np.sum(nums_all_np)\n",
    "sum_even = np.sum(nums_even_np)\n",
    "sum_odd = np.sum(nums_odd_np)\n",
    "\n",
    "average_all = np.mean(nums_all_np) if nums_all_np.size > 0 else 0\n",
    "average_even = np.mean(nums_even_np) if nums_even_np.size > 0 else 0\n",
    "average_odd = np.mean(nums_odd_np) if nums_odd_np.size > 0 else 0\n",
    "\n",
    "print(f\"All numbers: {nums_all_np.tolist()}\")\n",
    "print(f\"Average of all numbers: {average_all}\")\n",
    "print(f\"Sum of all numbers: {sum_all}\",end='\\n\\n')\n",
    "\n",
    "print(f\"Even numbers: {nums_even_np.tolist()}\")\n",
    "print(f\"Average of even numbers: {average_even}\")\n",
    "print(f\"Sum of even numbers: {sum_even}\",end='\\n\\n')\n",
    "\n",
    "print(f\"Odd numbers: {nums_odd_np.tolist()}\")\n",
    "print(f\"Average of odd numbers: {average_odd}\")\n",
    "print(f\"Sum of odd numbers: {sum_odd}\",end='\\n\\n')"
   ]
  },
  {
   "cell_type": "code",
   "execution_count": 23,
   "id": "d3d5c7de-df44-4762-a6ea-93560d220a3f",
   "metadata": {},
   "outputs": [
    {
     "name": "stdout",
     "output_type": "stream",
     "text": [
      "3 Exercise\n"
     ]
    },
    {
     "name": "stdin",
     "output_type": "stream",
     "text": [
      "Input a number >>>  1\n",
      "Input a number >>>  -1\n",
      "Input a number >>>  1.2323\n",
      "Input a number >>>  1090\n",
      "Input a number >>>  -99.999999\n",
      "Input a number >>>  stop\n"
     ]
    },
    {
     "name": "stdout",
     "output_type": "stream",
     "text": [
      "\n",
      "Sorted List: [-99.999999, -1.0, 1.0, 1.2323, 1090.0]\n"
     ]
    }
   ],
   "source": [
    "import bisect\n",
    "\n",
    "print(\"3 Exercise\")\n",
    "\n",
    "sorted_list = []\n",
    "\n",
    "while True:\n",
    "    value = input(\"Input a number >>> \")\n",
    "\n",
    "    if value.lower() == \"stop\":\n",
    "        break\n",
    "\n",
    "    try:\n",
    "        num = float(value)\n",
    "        # Use bisect.insort to insert the number in the correct sorted position\n",
    "        bisect.insort(sorted_list, num)\n",
    "    except ValueError:\n",
    "        print(\"Please enter a valid number or 'stop' to finish.\")\n",
    "print()\n",
    "print(\"Sorted List:\", sorted_list)\n"
   ]
  },
  {
   "cell_type": "code",
   "execution_count": 24,
   "id": "30f74758-6468-4068-bb17-30585051b213",
   "metadata": {},
   "outputs": [
    {
     "name": "stdout",
     "output_type": "stream",
     "text": [
      "Exercise 3 option 1 task 1\n",
      "Number of positive items in list: 6\n",
      "\n",
      "Exercise 3 option 1 task 2\n",
      "The largest item in the list is: 23\n",
      "The index of the largest item is: 4\n",
      "\n",
      "Exercise 3 option 1 task 3\n",
      "The smallest odd item in the list is: -15\n"
     ]
    }
   ],
   "source": [
    "list = [12, -4, 7, 0, 23, -5, 3, 9, -15, 4]\n",
    "\n",
    "print('Exercise 3 option 1 task 1')\n",
    "positive_items_count = len([i for i in list if i > 0])\n",
    "print(f'Number of positive items in list: {positive_items_count}')\n",
    "\n",
    "print()\n",
    "\n",
    "print('Exercise 3 option 1 task 2')\n",
    "largest_item = max(my_list)\n",
    "largest_item_index = my_list.index(largest_item)\n",
    "print(f'The largest item in the list is: {largest_item}')\n",
    "print(f'The index of the largest item is: {largest_item_index}')\n",
    "print()\n",
    "\n",
    "print('Exercise 3 option 1 task 3')\n",
    "odd_list = [i for i in my_list if i % 2 != 0]\n",
    "print('The smallest odd item in the list is: ', end='')\n",
    "if odd_list:\n",
    "    print(min(odd_list))\n",
    "else:\n",
    "    print(0)\n"
   ]
  },
  {
   "cell_type": "code",
   "execution_count": 25,
   "id": "7f77f298-77ec-4ed4-b6e5-9cc849b16636",
   "metadata": {},
   "outputs": [
    {
     "name": "stdout",
     "output_type": "stream",
     "text": [
      "Exercise 3 option 1 task 1\n",
      "Number of positive items in list: 6\n",
      "\n",
      "Exercise 3 option 1 task 2\n",
      "The largest item in the list is: 23\n",
      "The index of the largest item is: 4\n",
      "\n",
      "Exercise 3 option 1 task 3\n",
      "The smallest odd item in the list is: -15\n"
     ]
    }
   ],
   "source": [
    "list = [12, -4, 7, 0, 23, -5, 3, 9, -15, 4]\n",
    "\n",
    "print('Exercise 3 option 1 task 1')\n",
    "positive_items_count = len([i for i in list if i > 0])\n",
    "print(f'Number of positive items in list: {positive_items_count}')\n",
    "\n",
    "print()\n",
    "\n",
    "print('Exercise 3 option 1 task 2')\n",
    "largest_item = max(list)\n",
    "largest_item_index = list.index(largest_item)\n",
    "print(f'The largest item in the list is: {largest_item}')\n",
    "print(f'The index of the largest item is: {largest_item_index}')\n",
    "print()\n",
    "\n",
    "print('Exercise 3 option 1 task 3')\n",
    "odd_list = [i for i in list if i % 2 != 0]\n",
    "print('The smallest odd item in the list is: ', end='')\n",
    "if odd_list:\n",
    "    print(min(odd_list))\n",
    "else:\n",
    "    print(0)\n"
   ]
  },
  {
   "cell_type": "code",
   "execution_count": 26,
   "id": "8db1769b-ecfe-4fe4-94c4-687166b378a0",
   "metadata": {},
   "outputs": [
    {
     "name": "stdout",
     "output_type": "stream",
     "text": [
      "Exercise 3 option 2 task 1\n",
      "List items that are larger than the previous item: [4, 7, 6, 9, 10, 0, 2]\n",
      "\n",
      "Exercise 3 option 2 task 2\n",
      "Number of elements in the list that are greater than both of their neighbors: 4\n",
      "These elements are: [4, 7, 6, 10]\n",
      "\n",
      "Exercise 3 option 2 task 3\n",
      "The smallest positive number: 1\n"
     ]
    }
   ],
   "source": [
    "list = [3, 4, 1, 7, 5, 6, -2, 9, 10, -8, 0, 2]\n",
    "\n",
    "print('Exercise 3 option 2 task 1')\n",
    "ge_prev_item_list = []\n",
    "for i in range(1, len(list)):\n",
    "    if list[i] > list[i - 1]:\n",
    "        ge_prev_item_list.append(list[i])\n",
    "print(f'List items that are larger than the previous item: {ge_prev_item_list}')\n",
    "\n",
    "print()\n",
    "# Exercise 3 option 2 task 2\n",
    "print('Exercise 3 option 2 task 2')\n",
    "ge_neighbors_item_list = []\n",
    "for i in range(1, len(list) - 1):\n",
    "    if list[i] > list[i - 1] and list[i] > list[i + 1]:\n",
    "        ge_neighbors_item_list.append(list[i])\n",
    "print(f'Number of elements in the list that are greater than both of their neighbors: {len(ge_neighbors_item_list)}')\n",
    "print(f'These elements are: {ge_neighbors_item_list}')\n",
    "\n",
    "print()\n",
    "# Exercise 3 option 2 task 3\n",
    "print('Exercise 3 option 2 task 3')\n",
    "positive_list = [i for i in list if i > 0]\n",
    "smallest_positive = min(positive_list)\n",
    "print(f'The smallest positive number: {smallest_positive}')\n"
   ]
  }
 ],
 "metadata": {
  "kernelspec": {
   "display_name": "Python 3 (ipykernel)",
   "language": "python",
   "name": "python3"
  },
  "language_info": {
   "codemirror_mode": {
    "name": "ipython",
    "version": 3
   },
   "file_extension": ".py",
   "mimetype": "text/x-python",
   "name": "python",
   "nbconvert_exporter": "python",
   "pygments_lexer": "ipython3",
   "version": "3.10.12"
  }
 },
 "nbformat": 4,
 "nbformat_minor": 5
}
