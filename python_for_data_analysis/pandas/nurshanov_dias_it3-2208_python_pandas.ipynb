{
 "cells": [
  {
   "cell_type": "code",
   "execution_count": null,
   "id": "1ea14d6f-5548-468a-a9b9-b8e9d06326a7",
   "metadata": {},
   "outputs": [],
   "source": [
    "Python pandas\n",
    "Nurshanov Dias\n",
    "IT3-2208"
   ]
  },
  {
   "cell_type": "code",
   "execution_count": 177,
   "id": "362e3086-4a8b-4c57-aadb-1cc216666f59",
   "metadata": {},
   "outputs": [
    {
     "data": {
      "text/html": [
       "<div>\n",
       "<style scoped>\n",
       "    .dataframe tbody tr th:only-of-type {\n",
       "        vertical-align: middle;\n",
       "    }\n",
       "\n",
       "    .dataframe tbody tr th {\n",
       "        vertical-align: top;\n",
       "    }\n",
       "\n",
       "    .dataframe thead th {\n",
       "        text-align: right;\n",
       "    }\n",
       "</style>\n",
       "<table border=\"1\" class=\"dataframe\">\n",
       "  <thead>\n",
       "    <tr style=\"text-align: right;\">\n",
       "      <th></th>\n",
       "      <th>2014</th>\n",
       "      <th>2015</th>\n",
       "      <th>2016</th>\n",
       "      <th>2017</th>\n",
       "    </tr>\n",
       "  </thead>\n",
       "  <tbody>\n",
       "    <tr>\n",
       "      <th>Zack</th>\n",
       "      <td>100.5</td>\n",
       "      <td>12000</td>\n",
       "      <td>20000</td>\n",
       "      <td>50000</td>\n",
       "    </tr>\n",
       "    <tr>\n",
       "      <th>Yasmin</th>\n",
       "      <td>150.9</td>\n",
       "      <td>18000</td>\n",
       "      <td>50000</td>\n",
       "      <td>60000</td>\n",
       "    </tr>\n",
       "    <tr>\n",
       "      <th>Xander</th>\n",
       "      <td>200.6</td>\n",
       "      <td>22000</td>\n",
       "      <td>70000</td>\n",
       "      <td>80000</td>\n",
       "    </tr>\n",
       "    <tr>\n",
       "      <th>Walker</th>\n",
       "      <td>30000.0</td>\n",
       "      <td>30000</td>\n",
       "      <td>100000</td>\n",
       "      <td>90000</td>\n",
       "    </tr>\n",
       "    <tr>\n",
       "      <th>Vanda</th>\n",
       "      <td>40000.0</td>\n",
       "      <td>45000</td>\n",
       "      <td>125000</td>\n",
       "      <td>90000</td>\n",
       "    </tr>\n",
       "  </tbody>\n",
       "</table>\n",
       "</div>"
      ],
      "text/plain": [
       "           2014   2015    2016   2017\n",
       "Zack      100.5  12000   20000  50000\n",
       "Yasmin    150.9  18000   50000  60000\n",
       "Xander    200.6  22000   70000  80000\n",
       "Walker  30000.0  30000  100000  90000\n",
       "Vanda   40000.0  45000  125000  90000"
      ]
     },
     "execution_count": 177,
     "metadata": {},
     "output_type": "execute_result"
    }
   ],
   "source": [
    "import pandas as pd\n",
    "\n",
    "data = {\n",
    "    '2014': [100.5, 150.9, 200.6, 30000, 40000],\n",
    "    '2015': [12000, 18000, 22000, 30000, 45000],\n",
    "    '2016': [20000, 50000, 70000, 100000, 125000],\n",
    "    '2017': [50000, 60000, 80000, 90000, 90000]\n",
    "}\n",
    "sales_persons = ['Zack', 'Yasmin', 'Xander', 'Walker', 'Vanda']\n",
    "\n",
    "Sales = pd.DataFrame(data, index=sales_persons)\n",
    "Sales"
   ]
  },
  {
   "cell_type": "code",
   "execution_count": 178,
   "id": "9d1bb10f-93c8-4888-bb6c-f6a66f49a341",
   "metadata": {},
   "outputs": [
    {
     "name": "stdout",
     "output_type": "stream",
     "text": [
      "2a) Display the row labels of Sales.\n",
      "Index(['Zack', 'Yasmin', 'Xander', 'Walker', 'Vanda'], dtype='object')\n"
     ]
    }
   ],
   "source": [
    "print('2a) Display the row labels of Sales.')\n",
    "\n",
    "print(Sales.index)"
   ]
  },
  {
   "cell_type": "code",
   "execution_count": 179,
   "id": "436598f9-8f9d-44e5-b67e-fd578f3b716c",
   "metadata": {},
   "outputs": [
    {
     "name": "stdout",
     "output_type": "stream",
     "text": [
      "2b) Display the column labels of Sales.\n",
      "Index(['2014', '2015', '2016', '2017'], dtype='object')\n"
     ]
    }
   ],
   "source": [
    "print('2b) Display the column labels of Sales.')\n",
    "\n",
    "print(Sales.columns)"
   ]
  },
  {
   "cell_type": "code",
   "execution_count": 180,
   "id": "39dfe8e7-2f3d-4536-9082-49e47ee03ae1",
   "metadata": {},
   "outputs": [
    {
     "name": "stdout",
     "output_type": "stream",
     "text": [
      "2c) Display the data types of each column of Sales. --- attribute dataframe_name.dtype\n"
     ]
    },
    {
     "data": {
      "text/plain": [
       "2014    float64\n",
       "2015      int64\n",
       "2016      int64\n",
       "2017      int64\n",
       "dtype: object"
      ]
     },
     "execution_count": 180,
     "metadata": {},
     "output_type": "execute_result"
    }
   ],
   "source": [
    "print('2c) Display the data types of each column of Sales. --- attribute dataframe_name.dtype')\n",
    "\n",
    "Sales.dtypes"
   ]
  },
  {
   "cell_type": "code",
   "execution_count": 181,
   "id": "4c8f7aa1-0671-41b0-915c-66f95793fb23",
   "metadata": {},
   "outputs": [
    {
     "name": "stdout",
     "output_type": "stream",
     "text": [
      "2d) Display the dimensions, shape, size and values of Sales.\n"
     ]
    },
    {
     "data": {
      "text/plain": [
       "{'dimensions': 2,\n",
       " 'shape': (5, 4),\n",
       " 'size': 20,\n",
       " 'values': array([[1.005e+02, 1.200e+04, 2.000e+04, 5.000e+04],\n",
       "        [1.509e+02, 1.800e+04, 5.000e+04, 6.000e+04],\n",
       "        [2.006e+02, 2.200e+04, 7.000e+04, 8.000e+04],\n",
       "        [3.000e+04, 3.000e+04, 1.000e+05, 9.000e+04],\n",
       "        [4.000e+04, 4.500e+04, 1.250e+05, 9.000e+04]])}"
      ]
     },
     "execution_count": 181,
     "metadata": {},
     "output_type": "execute_result"
    }
   ],
   "source": [
    "print('2d) Display the dimensions, shape, size and values of Sales.')\n",
    "\n",
    "{\n",
    "    \"dimensions\": Sales.ndim,\n",
    "    \"shape\": Sales.shape,\n",
    "    \"size\": Sales.size,\n",
    "    \"values\": Sales.values,\n",
    "}"
   ]
  },
  {
   "cell_type": "code",
   "execution_count": 182,
   "id": "b6281d5c-be98-4fb8-90af-e85793d4d891",
   "metadata": {},
   "outputs": [
    {
     "name": "stdout",
     "output_type": "stream",
     "text": [
      "2e) Display the last two rows of Sales.\n"
     ]
    },
    {
     "data": {
      "text/html": [
       "<div>\n",
       "<style scoped>\n",
       "    .dataframe tbody tr th:only-of-type {\n",
       "        vertical-align: middle;\n",
       "    }\n",
       "\n",
       "    .dataframe tbody tr th {\n",
       "        vertical-align: top;\n",
       "    }\n",
       "\n",
       "    .dataframe thead th {\n",
       "        text-align: right;\n",
       "    }\n",
       "</style>\n",
       "<table border=\"1\" class=\"dataframe\">\n",
       "  <thead>\n",
       "    <tr style=\"text-align: right;\">\n",
       "      <th></th>\n",
       "      <th>2014</th>\n",
       "      <th>2015</th>\n",
       "      <th>2016</th>\n",
       "      <th>2017</th>\n",
       "    </tr>\n",
       "  </thead>\n",
       "  <tbody>\n",
       "    <tr>\n",
       "      <th>Walker</th>\n",
       "      <td>30000.0</td>\n",
       "      <td>30000</td>\n",
       "      <td>100000</td>\n",
       "      <td>90000</td>\n",
       "    </tr>\n",
       "    <tr>\n",
       "      <th>Vanda</th>\n",
       "      <td>40000.0</td>\n",
       "      <td>45000</td>\n",
       "      <td>125000</td>\n",
       "      <td>90000</td>\n",
       "    </tr>\n",
       "  </tbody>\n",
       "</table>\n",
       "</div>"
      ],
      "text/plain": [
       "           2014   2015    2016   2017\n",
       "Walker  30000.0  30000  100000  90000\n",
       "Vanda   40000.0  45000  125000  90000"
      ]
     },
     "execution_count": 182,
     "metadata": {},
     "output_type": "execute_result"
    }
   ],
   "source": [
    "print('2e) Display the last two rows of Sales.')\n",
    "\n",
    "Sales.tail(2)"
   ]
  },
  {
   "cell_type": "code",
   "execution_count": 183,
   "id": "f6eca65a-6987-4f09-bda7-3e12850e22fd",
   "metadata": {},
   "outputs": [
    {
     "name": "stdout",
     "output_type": "stream",
     "text": [
      "2f) Display the first two columns of Sales.\n"
     ]
    },
    {
     "data": {
      "text/html": [
       "<div>\n",
       "<style scoped>\n",
       "    .dataframe tbody tr th:only-of-type {\n",
       "        vertical-align: middle;\n",
       "    }\n",
       "\n",
       "    .dataframe tbody tr th {\n",
       "        vertical-align: top;\n",
       "    }\n",
       "\n",
       "    .dataframe thead th {\n",
       "        text-align: right;\n",
       "    }\n",
       "</style>\n",
       "<table border=\"1\" class=\"dataframe\">\n",
       "  <thead>\n",
       "    <tr style=\"text-align: right;\">\n",
       "      <th></th>\n",
       "      <th>2014</th>\n",
       "      <th>2015</th>\n",
       "      <th>2016</th>\n",
       "      <th>2017</th>\n",
       "    </tr>\n",
       "  </thead>\n",
       "  <tbody>\n",
       "    <tr>\n",
       "      <th>Zack</th>\n",
       "      <td>100.5</td>\n",
       "      <td>12000</td>\n",
       "      <td>20000</td>\n",
       "      <td>50000</td>\n",
       "    </tr>\n",
       "    <tr>\n",
       "      <th>Yasmin</th>\n",
       "      <td>150.9</td>\n",
       "      <td>18000</td>\n",
       "      <td>50000</td>\n",
       "      <td>60000</td>\n",
       "    </tr>\n",
       "  </tbody>\n",
       "</table>\n",
       "</div>"
      ],
      "text/plain": [
       "         2014   2015   2016   2017\n",
       "Zack    100.5  12000  20000  50000\n",
       "Yasmin  150.9  18000  50000  60000"
      ]
     },
     "execution_count": 183,
     "metadata": {},
     "output_type": "execute_result"
    }
   ],
   "source": [
    "print('2f) Display the first two columns of Sales.')\n",
    "\n",
    "Sales.head(2)"
   ]
  },
  {
   "cell_type": "code",
   "execution_count": 184,
   "id": "dcfb00df-e6db-4c6e-a323-512015828d9c",
   "metadata": {},
   "outputs": [
    {
     "name": "stdout",
     "output_type": "stream",
     "text": [
      "2g) Create a dictionary using the following data. Use this dictionary to create a DataFrame Sales2.\n"
     ]
    },
    {
     "data": {
      "text/html": [
       "<div>\n",
       "<style scoped>\n",
       "    .dataframe tbody tr th:only-of-type {\n",
       "        vertical-align: middle;\n",
       "    }\n",
       "\n",
       "    .dataframe tbody tr th {\n",
       "        vertical-align: top;\n",
       "    }\n",
       "\n",
       "    .dataframe thead th {\n",
       "        text-align: right;\n",
       "    }\n",
       "</style>\n",
       "<table border=\"1\" class=\"dataframe\">\n",
       "  <thead>\n",
       "    <tr style=\"text-align: right;\">\n",
       "      <th></th>\n",
       "      <th>2018</th>\n",
       "    </tr>\n",
       "  </thead>\n",
       "  <tbody>\n",
       "    <tr>\n",
       "      <th>Zack</th>\n",
       "      <td>160000</td>\n",
       "    </tr>\n",
       "    <tr>\n",
       "      <th>Yasmin</th>\n",
       "      <td>110000</td>\n",
       "    </tr>\n",
       "    <tr>\n",
       "      <th>Xander</th>\n",
       "      <td>500000</td>\n",
       "    </tr>\n",
       "    <tr>\n",
       "      <th>Walker</th>\n",
       "      <td>340000</td>\n",
       "    </tr>\n",
       "    <tr>\n",
       "      <th>Vanda</th>\n",
       "      <td>900000</td>\n",
       "    </tr>\n",
       "  </tbody>\n",
       "</table>\n",
       "</div>"
      ],
      "text/plain": [
       "          2018\n",
       "Zack    160000\n",
       "Yasmin  110000\n",
       "Xander  500000\n",
       "Walker  340000\n",
       "Vanda   900000"
      ]
     },
     "execution_count": 184,
     "metadata": {},
     "output_type": "execute_result"
    }
   ],
   "source": [
    "print('2g) Create a dictionary using the following data. Use this dictionary to create a DataFrame Sales2.')\n",
    "\n",
    "data = {\n",
    "    '2018': [\n",
    "        160000,\n",
    "        110000,\n",
    "        500000,\n",
    "        340000,\n",
    "        900000,\n",
    "    ]\n",
    "}\n",
    "\n",
    "Sales2 = pd.DataFrame(data, index=sales_persons)\n",
    "Sales2"
   ]
  },
  {
   "cell_type": "code",
   "execution_count": 185,
   "id": "4d2f692a-91e6-4e4f-ba14-3ae5974f9c9f",
   "metadata": {},
   "outputs": [
    {
     "name": "stdout",
     "output_type": "stream",
     "text": [
      "2h) Check if Sales2 is empty or it contains data.\n"
     ]
    },
    {
     "data": {
      "text/plain": [
       "False"
      ]
     },
     "execution_count": 185,
     "metadata": {},
     "output_type": "execute_result"
    }
   ],
   "source": [
    "print('2h) Check if Sales2 is empty or it contains data.')\n",
    "\n",
    "Sales2.empty"
   ]
  },
  {
   "cell_type": "code",
   "execution_count": 186,
   "id": "aa374d10-ba62-49be-a7ac-2605f4eaf7c4",
   "metadata": {},
   "outputs": [
    {
     "name": "stdout",
     "output_type": "stream",
     "text": [
      "3a) Append the DataFrame Sales2 to the DataFrame Sales.\n"
     ]
    },
    {
     "data": {
      "text/html": [
       "<div>\n",
       "<style scoped>\n",
       "    .dataframe tbody tr th:only-of-type {\n",
       "        vertical-align: middle;\n",
       "    }\n",
       "\n",
       "    .dataframe tbody tr th {\n",
       "        vertical-align: top;\n",
       "    }\n",
       "\n",
       "    .dataframe thead th {\n",
       "        text-align: right;\n",
       "    }\n",
       "</style>\n",
       "<table border=\"1\" class=\"dataframe\">\n",
       "  <thead>\n",
       "    <tr style=\"text-align: right;\">\n",
       "      <th></th>\n",
       "      <th>2014</th>\n",
       "      <th>2015</th>\n",
       "      <th>2016</th>\n",
       "      <th>2017</th>\n",
       "      <th>2018</th>\n",
       "    </tr>\n",
       "  </thead>\n",
       "  <tbody>\n",
       "    <tr>\n",
       "      <th>Zack</th>\n",
       "      <td>100.5</td>\n",
       "      <td>12000</td>\n",
       "      <td>20000</td>\n",
       "      <td>50000</td>\n",
       "      <td>160000</td>\n",
       "    </tr>\n",
       "    <tr>\n",
       "      <th>Yasmin</th>\n",
       "      <td>150.9</td>\n",
       "      <td>18000</td>\n",
       "      <td>50000</td>\n",
       "      <td>60000</td>\n",
       "      <td>110000</td>\n",
       "    </tr>\n",
       "    <tr>\n",
       "      <th>Xander</th>\n",
       "      <td>200.6</td>\n",
       "      <td>22000</td>\n",
       "      <td>70000</td>\n",
       "      <td>80000</td>\n",
       "      <td>500000</td>\n",
       "    </tr>\n",
       "    <tr>\n",
       "      <th>Walker</th>\n",
       "      <td>30000.0</td>\n",
       "      <td>30000</td>\n",
       "      <td>100000</td>\n",
       "      <td>90000</td>\n",
       "      <td>340000</td>\n",
       "    </tr>\n",
       "    <tr>\n",
       "      <th>Vanda</th>\n",
       "      <td>40000.0</td>\n",
       "      <td>45000</td>\n",
       "      <td>125000</td>\n",
       "      <td>90000</td>\n",
       "      <td>900000</td>\n",
       "    </tr>\n",
       "  </tbody>\n",
       "</table>\n",
       "</div>"
      ],
      "text/plain": [
       "           2014   2015    2016   2017    2018\n",
       "Zack      100.5  12000   20000  50000  160000\n",
       "Yasmin    150.9  18000   50000  60000  110000\n",
       "Xander    200.6  22000   70000  80000  500000\n",
       "Walker  30000.0  30000  100000  90000  340000\n",
       "Vanda   40000.0  45000  125000  90000  900000"
      ]
     },
     "execution_count": 186,
     "metadata": {},
     "output_type": "execute_result"
    }
   ],
   "source": [
    "print('3a) Append the DataFrame Sales2 to the DataFrame Sales.')\n",
    "\n",
    "Sales = Sales.join(Sales2)\n",
    "Sales"
   ]
  },
  {
   "cell_type": "code",
   "execution_count": 187,
   "id": "532d8471-63f3-4a13-a61d-13930ee51ab3",
   "metadata": {},
   "outputs": [
    {
     "name": "stdout",
     "output_type": "stream",
     "text": [
      "3b) Change the DataFrame Sales such that it becomes its transpose.\n"
     ]
    },
    {
     "data": {
      "text/html": [
       "<div>\n",
       "<style scoped>\n",
       "    .dataframe tbody tr th:only-of-type {\n",
       "        vertical-align: middle;\n",
       "    }\n",
       "\n",
       "    .dataframe tbody tr th {\n",
       "        vertical-align: top;\n",
       "    }\n",
       "\n",
       "    .dataframe thead th {\n",
       "        text-align: right;\n",
       "    }\n",
       "</style>\n",
       "<table border=\"1\" class=\"dataframe\">\n",
       "  <thead>\n",
       "    <tr style=\"text-align: right;\">\n",
       "      <th></th>\n",
       "      <th>Zack</th>\n",
       "      <th>Yasmin</th>\n",
       "      <th>Xander</th>\n",
       "      <th>Walker</th>\n",
       "      <th>Vanda</th>\n",
       "    </tr>\n",
       "  </thead>\n",
       "  <tbody>\n",
       "    <tr>\n",
       "      <th>2014</th>\n",
       "      <td>100.5</td>\n",
       "      <td>150.9</td>\n",
       "      <td>200.6</td>\n",
       "      <td>30000.0</td>\n",
       "      <td>40000.0</td>\n",
       "    </tr>\n",
       "    <tr>\n",
       "      <th>2015</th>\n",
       "      <td>12000.0</td>\n",
       "      <td>18000.0</td>\n",
       "      <td>22000.0</td>\n",
       "      <td>30000.0</td>\n",
       "      <td>45000.0</td>\n",
       "    </tr>\n",
       "    <tr>\n",
       "      <th>2016</th>\n",
       "      <td>20000.0</td>\n",
       "      <td>50000.0</td>\n",
       "      <td>70000.0</td>\n",
       "      <td>100000.0</td>\n",
       "      <td>125000.0</td>\n",
       "    </tr>\n",
       "    <tr>\n",
       "      <th>2017</th>\n",
       "      <td>50000.0</td>\n",
       "      <td>60000.0</td>\n",
       "      <td>80000.0</td>\n",
       "      <td>90000.0</td>\n",
       "      <td>90000.0</td>\n",
       "    </tr>\n",
       "    <tr>\n",
       "      <th>2018</th>\n",
       "      <td>160000.0</td>\n",
       "      <td>110000.0</td>\n",
       "      <td>500000.0</td>\n",
       "      <td>340000.0</td>\n",
       "      <td>900000.0</td>\n",
       "    </tr>\n",
       "  </tbody>\n",
       "</table>\n",
       "</div>"
      ],
      "text/plain": [
       "          Zack    Yasmin    Xander    Walker     Vanda\n",
       "2014     100.5     150.9     200.6   30000.0   40000.0\n",
       "2015   12000.0   18000.0   22000.0   30000.0   45000.0\n",
       "2016   20000.0   50000.0   70000.0  100000.0  125000.0\n",
       "2017   50000.0   60000.0   80000.0   90000.0   90000.0\n",
       "2018  160000.0  110000.0  500000.0  340000.0  900000.0"
      ]
     },
     "execution_count": 187,
     "metadata": {},
     "output_type": "execute_result"
    }
   ],
   "source": [
    "print('3b) Change the DataFrame Sales such that it becomes its transpose.')\n",
    "\n",
    "Sales = Sales.T \n",
    "Sales"
   ]
  },
  {
   "cell_type": "code",
   "execution_count": 188,
   "id": "5fccb55f-0741-4833-b07f-295684d26aa8",
   "metadata": {},
   "outputs": [
    {
     "name": "stdout",
     "output_type": "stream",
     "text": [
      "3c) Display the sales made by all sales persons in the year 2017.\n"
     ]
    },
    {
     "data": {
      "text/plain": [
       "Zack      50000.0\n",
       "Yasmin    60000.0\n",
       "Xander    80000.0\n",
       "Walker    90000.0\n",
       "Vanda     90000.0\n",
       "Name: 2017, dtype: float64"
      ]
     },
     "execution_count": 188,
     "metadata": {},
     "output_type": "execute_result"
    }
   ],
   "source": [
    "print('3c) Display the sales made by all sales persons in the year 2017.')\n",
    "\n",
    "Sales.loc['2017']"
   ]
  },
  {
   "cell_type": "code",
   "execution_count": 189,
   "id": "a88c56bc-b124-4b47-a7de-3c9f899eb341",
   "metadata": {},
   "outputs": [
    {
     "name": "stdout",
     "output_type": "stream",
     "text": [
      "3d) Display the sales made by Yasmin and Vanda in the year 2017 and 2018.\n"
     ]
    },
    {
     "data": {
      "text/html": [
       "<div>\n",
       "<style scoped>\n",
       "    .dataframe tbody tr th:only-of-type {\n",
       "        vertical-align: middle;\n",
       "    }\n",
       "\n",
       "    .dataframe tbody tr th {\n",
       "        vertical-align: top;\n",
       "    }\n",
       "\n",
       "    .dataframe thead th {\n",
       "        text-align: right;\n",
       "    }\n",
       "</style>\n",
       "<table border=\"1\" class=\"dataframe\">\n",
       "  <thead>\n",
       "    <tr style=\"text-align: right;\">\n",
       "      <th></th>\n",
       "      <th>Yasmin</th>\n",
       "      <th>Vanda</th>\n",
       "    </tr>\n",
       "  </thead>\n",
       "  <tbody>\n",
       "    <tr>\n",
       "      <th>2017</th>\n",
       "      <td>60000.0</td>\n",
       "      <td>90000.0</td>\n",
       "    </tr>\n",
       "    <tr>\n",
       "      <th>2018</th>\n",
       "      <td>110000.0</td>\n",
       "      <td>900000.0</td>\n",
       "    </tr>\n",
       "  </tbody>\n",
       "</table>\n",
       "</div>"
      ],
      "text/plain": [
       "        Yasmin     Vanda\n",
       "2017   60000.0   90000.0\n",
       "2018  110000.0  900000.0"
      ]
     },
     "execution_count": 189,
     "metadata": {},
     "output_type": "execute_result"
    }
   ],
   "source": [
    "print('3d) Display the sales made by Yasmin and Vanda in the year 2017 and 2018.')\n",
    "\n",
    "Sales.loc[['2017', '2018'],['Yasmin', 'Vanda']]"
   ]
  },
  {
   "cell_type": "code",
   "execution_count": 190,
   "id": "9fb12628-55e1-4fc6-b2cd-40141a2fc1ab",
   "metadata": {},
   "outputs": [
    {
     "name": "stdout",
     "output_type": "stream",
     "text": [
      "3e) Display the sales made by Xander 2016.\n"
     ]
    },
    {
     "data": {
      "text/html": [
       "<div>\n",
       "<style scoped>\n",
       "    .dataframe tbody tr th:only-of-type {\n",
       "        vertical-align: middle;\n",
       "    }\n",
       "\n",
       "    .dataframe tbody tr th {\n",
       "        vertical-align: top;\n",
       "    }\n",
       "\n",
       "    .dataframe thead th {\n",
       "        text-align: right;\n",
       "    }\n",
       "</style>\n",
       "<table border=\"1\" class=\"dataframe\">\n",
       "  <thead>\n",
       "    <tr style=\"text-align: right;\">\n",
       "      <th></th>\n",
       "      <th>Zack</th>\n",
       "      <th>Yasmin</th>\n",
       "      <th>Xander</th>\n",
       "      <th>Walker</th>\n",
       "      <th>Vanda</th>\n",
       "    </tr>\n",
       "  </thead>\n",
       "  <tbody>\n",
       "    <tr>\n",
       "      <th>2014</th>\n",
       "      <td>100.5</td>\n",
       "      <td>150.9</td>\n",
       "      <td>200.6</td>\n",
       "      <td>30000.0</td>\n",
       "      <td>40000.0</td>\n",
       "    </tr>\n",
       "    <tr>\n",
       "      <th>2015</th>\n",
       "      <td>12000.0</td>\n",
       "      <td>18000.0</td>\n",
       "      <td>22000.0</td>\n",
       "      <td>30000.0</td>\n",
       "      <td>45000.0</td>\n",
       "    </tr>\n",
       "    <tr>\n",
       "      <th>2016</th>\n",
       "      <td>20000.0</td>\n",
       "      <td>50000.0</td>\n",
       "      <td>70000.0</td>\n",
       "      <td>100000.0</td>\n",
       "      <td>125000.0</td>\n",
       "    </tr>\n",
       "    <tr>\n",
       "      <th>2017</th>\n",
       "      <td>50000.0</td>\n",
       "      <td>60000.0</td>\n",
       "      <td>80000.0</td>\n",
       "      <td>90000.0</td>\n",
       "      <td>90000.0</td>\n",
       "    </tr>\n",
       "    <tr>\n",
       "      <th>2018</th>\n",
       "      <td>160000.0</td>\n",
       "      <td>110000.0</td>\n",
       "      <td>500000.0</td>\n",
       "      <td>340000.0</td>\n",
       "      <td>900000.0</td>\n",
       "    </tr>\n",
       "  </tbody>\n",
       "</table>\n",
       "</div>"
      ],
      "text/plain": [
       "          Zack    Yasmin    Xander    Walker     Vanda\n",
       "2014     100.5     150.9     200.6   30000.0   40000.0\n",
       "2015   12000.0   18000.0   22000.0   30000.0   45000.0\n",
       "2016   20000.0   50000.0   70000.0  100000.0  125000.0\n",
       "2017   50000.0   60000.0   80000.0   90000.0   90000.0\n",
       "2018  160000.0  110000.0  500000.0  340000.0  900000.0"
      ]
     },
     "execution_count": 190,
     "metadata": {},
     "output_type": "execute_result"
    }
   ],
   "source": [
    "print('3e) Display the sales made by Xander 2016.')\n",
    "\n",
    "Sales.loc['2016','Xander']\n",
    "Sales"
   ]
  },
  {
   "cell_type": "code",
   "execution_count": 191,
   "id": "059f818e-5944-4ae6-bf83-ceb5813f0278",
   "metadata": {},
   "outputs": [
    {
     "name": "stdout",
     "output_type": "stream",
     "text": [
      "3f) Add data to Sales for salesman Ursula where the sales made are [196.2, 37800, 52000, 78438,38852] in the years [2014, 2015, 2016, 2017,2018] respectively.\n"
     ]
    },
    {
     "data": {
      "text/html": [
       "<div>\n",
       "<style scoped>\n",
       "    .dataframe tbody tr th:only-of-type {\n",
       "        vertical-align: middle;\n",
       "    }\n",
       "\n",
       "    .dataframe tbody tr th {\n",
       "        vertical-align: top;\n",
       "    }\n",
       "\n",
       "    .dataframe thead th {\n",
       "        text-align: right;\n",
       "    }\n",
       "</style>\n",
       "<table border=\"1\" class=\"dataframe\">\n",
       "  <thead>\n",
       "    <tr style=\"text-align: right;\">\n",
       "      <th></th>\n",
       "      <th>Zack</th>\n",
       "      <th>Yasmin</th>\n",
       "      <th>Xander</th>\n",
       "      <th>Walker</th>\n",
       "      <th>Vanda</th>\n",
       "      <th>Ursula</th>\n",
       "    </tr>\n",
       "  </thead>\n",
       "  <tbody>\n",
       "    <tr>\n",
       "      <th>2014</th>\n",
       "      <td>100.5</td>\n",
       "      <td>150.9</td>\n",
       "      <td>200.6</td>\n",
       "      <td>30000.0</td>\n",
       "      <td>40000.0</td>\n",
       "      <td>196.2</td>\n",
       "    </tr>\n",
       "    <tr>\n",
       "      <th>2015</th>\n",
       "      <td>12000.0</td>\n",
       "      <td>18000.0</td>\n",
       "      <td>22000.0</td>\n",
       "      <td>30000.0</td>\n",
       "      <td>45000.0</td>\n",
       "      <td>37800.0</td>\n",
       "    </tr>\n",
       "    <tr>\n",
       "      <th>2016</th>\n",
       "      <td>20000.0</td>\n",
       "      <td>50000.0</td>\n",
       "      <td>70000.0</td>\n",
       "      <td>100000.0</td>\n",
       "      <td>125000.0</td>\n",
       "      <td>52000.0</td>\n",
       "    </tr>\n",
       "    <tr>\n",
       "      <th>2017</th>\n",
       "      <td>50000.0</td>\n",
       "      <td>60000.0</td>\n",
       "      <td>80000.0</td>\n",
       "      <td>90000.0</td>\n",
       "      <td>90000.0</td>\n",
       "      <td>78438.0</td>\n",
       "    </tr>\n",
       "    <tr>\n",
       "      <th>2018</th>\n",
       "      <td>160000.0</td>\n",
       "      <td>110000.0</td>\n",
       "      <td>500000.0</td>\n",
       "      <td>340000.0</td>\n",
       "      <td>900000.0</td>\n",
       "      <td>38852.0</td>\n",
       "    </tr>\n",
       "  </tbody>\n",
       "</table>\n",
       "</div>"
      ],
      "text/plain": [
       "          Zack    Yasmin    Xander    Walker     Vanda   Ursula\n",
       "2014     100.5     150.9     200.6   30000.0   40000.0    196.2\n",
       "2015   12000.0   18000.0   22000.0   30000.0   45000.0  37800.0\n",
       "2016   20000.0   50000.0   70000.0  100000.0  125000.0  52000.0\n",
       "2017   50000.0   60000.0   80000.0   90000.0   90000.0  78438.0\n",
       "2018  160000.0  110000.0  500000.0  340000.0  900000.0  38852.0"
      ]
     },
     "execution_count": 191,
     "metadata": {},
     "output_type": "execute_result"
    }
   ],
   "source": [
    "print('3f) Add data to Sales for salesman Ursula where the sales made are [196.2, 37800, 52000, 78438,38852] in the years [2014, 2015, 2016, 2017,2018] respectively.')\n",
    "\n",
    "Sales['Ursula'] = [196.2, 37800.0, 52000.0, 78438.0, 38852.0]\n",
    "Sales"
   ]
  },
  {
   "cell_type": "code",
   "execution_count": 192,
   "id": "96f1a11f-a62d-44dc-ab81-80c00706d003",
   "metadata": {},
   "outputs": [
    {
     "name": "stdout",
     "output_type": "stream",
     "text": [
      "3g) Delete the data for the year 2014 from the DataFrame Sales.\n"
     ]
    },
    {
     "data": {
      "text/html": [
       "<div>\n",
       "<style scoped>\n",
       "    .dataframe tbody tr th:only-of-type {\n",
       "        vertical-align: middle;\n",
       "    }\n",
       "\n",
       "    .dataframe tbody tr th {\n",
       "        vertical-align: top;\n",
       "    }\n",
       "\n",
       "    .dataframe thead th {\n",
       "        text-align: right;\n",
       "    }\n",
       "</style>\n",
       "<table border=\"1\" class=\"dataframe\">\n",
       "  <thead>\n",
       "    <tr style=\"text-align: right;\">\n",
       "      <th></th>\n",
       "      <th>Zack</th>\n",
       "      <th>Yasmin</th>\n",
       "      <th>Xander</th>\n",
       "      <th>Walker</th>\n",
       "      <th>Vanda</th>\n",
       "      <th>Ursula</th>\n",
       "    </tr>\n",
       "  </thead>\n",
       "  <tbody>\n",
       "    <tr>\n",
       "      <th>2015</th>\n",
       "      <td>12000.0</td>\n",
       "      <td>18000.0</td>\n",
       "      <td>22000.0</td>\n",
       "      <td>30000.0</td>\n",
       "      <td>45000.0</td>\n",
       "      <td>37800.0</td>\n",
       "    </tr>\n",
       "    <tr>\n",
       "      <th>2016</th>\n",
       "      <td>20000.0</td>\n",
       "      <td>50000.0</td>\n",
       "      <td>70000.0</td>\n",
       "      <td>100000.0</td>\n",
       "      <td>125000.0</td>\n",
       "      <td>52000.0</td>\n",
       "    </tr>\n",
       "    <tr>\n",
       "      <th>2017</th>\n",
       "      <td>50000.0</td>\n",
       "      <td>60000.0</td>\n",
       "      <td>80000.0</td>\n",
       "      <td>90000.0</td>\n",
       "      <td>90000.0</td>\n",
       "      <td>78438.0</td>\n",
       "    </tr>\n",
       "    <tr>\n",
       "      <th>2018</th>\n",
       "      <td>160000.0</td>\n",
       "      <td>110000.0</td>\n",
       "      <td>500000.0</td>\n",
       "      <td>340000.0</td>\n",
       "      <td>900000.0</td>\n",
       "      <td>38852.0</td>\n",
       "    </tr>\n",
       "  </tbody>\n",
       "</table>\n",
       "</div>"
      ],
      "text/plain": [
       "          Zack    Yasmin    Xander    Walker     Vanda   Ursula\n",
       "2015   12000.0   18000.0   22000.0   30000.0   45000.0  37800.0\n",
       "2016   20000.0   50000.0   70000.0  100000.0  125000.0  52000.0\n",
       "2017   50000.0   60000.0   80000.0   90000.0   90000.0  78438.0\n",
       "2018  160000.0  110000.0  500000.0  340000.0  900000.0  38852.0"
      ]
     },
     "execution_count": 192,
     "metadata": {},
     "output_type": "execute_result"
    }
   ],
   "source": [
    "print('3g) Delete the data for the year 2014 from the DataFrame Sales.')\n",
    "\n",
    "Sales = Sales.drop(index=['2014'])\n",
    "Sales"
   ]
  },
  {
   "cell_type": "code",
   "execution_count": 193,
   "id": "d7281920-2706-44a9-869f-7f0661ab54d3",
   "metadata": {},
   "outputs": [
    {
     "name": "stdout",
     "output_type": "stream",
     "text": [
      "3h) Delete the data for sales man Zack from the DataFrame Sales.\n"
     ]
    },
    {
     "data": {
      "text/html": [
       "<div>\n",
       "<style scoped>\n",
       "    .dataframe tbody tr th:only-of-type {\n",
       "        vertical-align: middle;\n",
       "    }\n",
       "\n",
       "    .dataframe tbody tr th {\n",
       "        vertical-align: top;\n",
       "    }\n",
       "\n",
       "    .dataframe thead th {\n",
       "        text-align: right;\n",
       "    }\n",
       "</style>\n",
       "<table border=\"1\" class=\"dataframe\">\n",
       "  <thead>\n",
       "    <tr style=\"text-align: right;\">\n",
       "      <th></th>\n",
       "      <th>Yasmin</th>\n",
       "      <th>Xander</th>\n",
       "      <th>Walker</th>\n",
       "      <th>Vanda</th>\n",
       "      <th>Ursula</th>\n",
       "    </tr>\n",
       "  </thead>\n",
       "  <tbody>\n",
       "    <tr>\n",
       "      <th>2015</th>\n",
       "      <td>18000.0</td>\n",
       "      <td>22000.0</td>\n",
       "      <td>30000.0</td>\n",
       "      <td>45000.0</td>\n",
       "      <td>37800.0</td>\n",
       "    </tr>\n",
       "    <tr>\n",
       "      <th>2016</th>\n",
       "      <td>50000.0</td>\n",
       "      <td>70000.0</td>\n",
       "      <td>100000.0</td>\n",
       "      <td>125000.0</td>\n",
       "      <td>52000.0</td>\n",
       "    </tr>\n",
       "    <tr>\n",
       "      <th>2017</th>\n",
       "      <td>60000.0</td>\n",
       "      <td>80000.0</td>\n",
       "      <td>90000.0</td>\n",
       "      <td>90000.0</td>\n",
       "      <td>78438.0</td>\n",
       "    </tr>\n",
       "    <tr>\n",
       "      <th>2018</th>\n",
       "      <td>110000.0</td>\n",
       "      <td>500000.0</td>\n",
       "      <td>340000.0</td>\n",
       "      <td>900000.0</td>\n",
       "      <td>38852.0</td>\n",
       "    </tr>\n",
       "  </tbody>\n",
       "</table>\n",
       "</div>"
      ],
      "text/plain": [
       "        Yasmin    Xander    Walker     Vanda   Ursula\n",
       "2015   18000.0   22000.0   30000.0   45000.0  37800.0\n",
       "2016   50000.0   70000.0  100000.0  125000.0  52000.0\n",
       "2017   60000.0   80000.0   90000.0   90000.0  78438.0\n",
       "2018  110000.0  500000.0  340000.0  900000.0  38852.0"
      ]
     },
     "execution_count": 193,
     "metadata": {},
     "output_type": "execute_result"
    }
   ],
   "source": [
    "print('3h) Delete the data for sales man Zack from the DataFrame Sales.')\n",
    "\n",
    "Sales = Sales.drop(columns=['Zack'])\n",
    "Sales"
   ]
  },
  {
   "cell_type": "code",
   "execution_count": 194,
   "id": "9a2eda37-02d7-48cf-940d-9970a0ce89d6",
   "metadata": {},
   "outputs": [
    {
     "name": "stdout",
     "output_type": "stream",
     "text": [
      "3i) Change the name of the salesperson Vanda to Vision and Yasmin to Aladdin.\n"
     ]
    },
    {
     "data": {
      "text/html": [
       "<div>\n",
       "<style scoped>\n",
       "    .dataframe tbody tr th:only-of-type {\n",
       "        vertical-align: middle;\n",
       "    }\n",
       "\n",
       "    .dataframe tbody tr th {\n",
       "        vertical-align: top;\n",
       "    }\n",
       "\n",
       "    .dataframe thead th {\n",
       "        text-align: right;\n",
       "    }\n",
       "</style>\n",
       "<table border=\"1\" class=\"dataframe\">\n",
       "  <thead>\n",
       "    <tr style=\"text-align: right;\">\n",
       "      <th></th>\n",
       "      <th>Aladdin</th>\n",
       "      <th>Xander</th>\n",
       "      <th>Walker</th>\n",
       "      <th>Vision</th>\n",
       "      <th>Ursula</th>\n",
       "    </tr>\n",
       "  </thead>\n",
       "  <tbody>\n",
       "    <tr>\n",
       "      <th>2015</th>\n",
       "      <td>18000.0</td>\n",
       "      <td>22000.0</td>\n",
       "      <td>30000.0</td>\n",
       "      <td>45000.0</td>\n",
       "      <td>37800.0</td>\n",
       "    </tr>\n",
       "    <tr>\n",
       "      <th>2016</th>\n",
       "      <td>50000.0</td>\n",
       "      <td>70000.0</td>\n",
       "      <td>100000.0</td>\n",
       "      <td>125000.0</td>\n",
       "      <td>52000.0</td>\n",
       "    </tr>\n",
       "    <tr>\n",
       "      <th>2017</th>\n",
       "      <td>60000.0</td>\n",
       "      <td>80000.0</td>\n",
       "      <td>90000.0</td>\n",
       "      <td>90000.0</td>\n",
       "      <td>78438.0</td>\n",
       "    </tr>\n",
       "    <tr>\n",
       "      <th>2018</th>\n",
       "      <td>110000.0</td>\n",
       "      <td>500000.0</td>\n",
       "      <td>340000.0</td>\n",
       "      <td>900000.0</td>\n",
       "      <td>38852.0</td>\n",
       "    </tr>\n",
       "  </tbody>\n",
       "</table>\n",
       "</div>"
      ],
      "text/plain": [
       "       Aladdin    Xander    Walker    Vision   Ursula\n",
       "2015   18000.0   22000.0   30000.0   45000.0  37800.0\n",
       "2016   50000.0   70000.0  100000.0  125000.0  52000.0\n",
       "2017   60000.0   80000.0   90000.0   90000.0  78438.0\n",
       "2018  110000.0  500000.0  340000.0  900000.0  38852.0"
      ]
     },
     "execution_count": 194,
     "metadata": {},
     "output_type": "execute_result"
    }
   ],
   "source": [
    "print('3i) Change the name of the salesperson Vanda to Vision and Yasmin to Aladdin.')\n",
    "\n",
    "Sales.rename(columns={'Vanda': 'Vision', 'Yasmin': 'Aladdin'}, inplace=True)\n",
    "Sales"
   ]
  },
  {
   "cell_type": "code",
   "execution_count": 195,
   "id": "fe318709-6868-42f0-89ca-5bb421c95e01",
   "metadata": {},
   "outputs": [
    {
     "name": "stdout",
     "output_type": "stream",
     "text": [
      "3j) Update the sale made by Xander in 2018 to 100000.\n"
     ]
    },
    {
     "data": {
      "text/html": [
       "<div>\n",
       "<style scoped>\n",
       "    .dataframe tbody tr th:only-of-type {\n",
       "        vertical-align: middle;\n",
       "    }\n",
       "\n",
       "    .dataframe tbody tr th {\n",
       "        vertical-align: top;\n",
       "    }\n",
       "\n",
       "    .dataframe thead th {\n",
       "        text-align: right;\n",
       "    }\n",
       "</style>\n",
       "<table border=\"1\" class=\"dataframe\">\n",
       "  <thead>\n",
       "    <tr style=\"text-align: right;\">\n",
       "      <th></th>\n",
       "      <th>Aladdin</th>\n",
       "      <th>Xander</th>\n",
       "      <th>Walker</th>\n",
       "      <th>Vision</th>\n",
       "      <th>Ursula</th>\n",
       "    </tr>\n",
       "  </thead>\n",
       "  <tbody>\n",
       "    <tr>\n",
       "      <th>2015</th>\n",
       "      <td>18000.0</td>\n",
       "      <td>22000.0</td>\n",
       "      <td>30000.0</td>\n",
       "      <td>45000.0</td>\n",
       "      <td>37800.0</td>\n",
       "    </tr>\n",
       "    <tr>\n",
       "      <th>2016</th>\n",
       "      <td>50000.0</td>\n",
       "      <td>70000.0</td>\n",
       "      <td>100000.0</td>\n",
       "      <td>125000.0</td>\n",
       "      <td>52000.0</td>\n",
       "    </tr>\n",
       "    <tr>\n",
       "      <th>2017</th>\n",
       "      <td>60000.0</td>\n",
       "      <td>80000.0</td>\n",
       "      <td>90000.0</td>\n",
       "      <td>90000.0</td>\n",
       "      <td>78438.0</td>\n",
       "    </tr>\n",
       "    <tr>\n",
       "      <th>2018</th>\n",
       "      <td>110000.0</td>\n",
       "      <td>100000.0</td>\n",
       "      <td>340000.0</td>\n",
       "      <td>900000.0</td>\n",
       "      <td>38852.0</td>\n",
       "    </tr>\n",
       "  </tbody>\n",
       "</table>\n",
       "</div>"
      ],
      "text/plain": [
       "       Aladdin    Xander    Walker    Vision   Ursula\n",
       "2015   18000.0   22000.0   30000.0   45000.0  37800.0\n",
       "2016   50000.0   70000.0  100000.0  125000.0  52000.0\n",
       "2017   60000.0   80000.0   90000.0   90000.0  78438.0\n",
       "2018  110000.0  100000.0  340000.0  900000.0  38852.0"
      ]
     },
     "execution_count": 195,
     "metadata": {},
     "output_type": "execute_result"
    }
   ],
   "source": [
    "print('3j) Update the sale made by Xander in 2018 to 100000.')\n",
    "\n",
    "Sales['Xander']['2018']=100000\n",
    "Sales"
   ]
  },
  {
   "cell_type": "code",
   "execution_count": 196,
   "id": "db41222d-f676-4492-b912-fd45a0bcc7e6",
   "metadata": {},
   "outputs": [
    {
     "name": "stdout",
     "output_type": "stream",
     "text": [
      "3k) Write the values of DataFrame Sales to a comma separated file SalesFigures.csv on the disk. Do not write the row labels and column labels.\n"
     ]
    },
    {
     "data": {
      "text/plain": [
       "'SalesFigures.csv'"
      ]
     },
     "execution_count": 196,
     "metadata": {},
     "output_type": "execute_result"
    }
   ],
   "source": [
    "print('3k) Write the values of DataFrame Sales to a comma separated file SalesFigures.csv on the disk. Do not write the row labels and column labels.')\n",
    "output_path = 'SalesFigures.csv'\n",
    "Sales.to_csv(output_path, index=False, header=False)\n",
    "\n",
    "output_path"
   ]
  },
  {
   "cell_type": "code",
   "execution_count": 197,
   "id": "18083cd1-c116-40a4-8259-d40a490eed34",
   "metadata": {},
   "outputs": [
    {
     "name": "stdout",
     "output_type": "stream",
     "text": [
      "3l) Read the data in the file SalesFigures.csv into a DataFrame SalesRetrieved and Display it.Now update the row labels and column labels of SalesRetrieved to be the same as that of Sales.\n"
     ]
    },
    {
     "data": {
      "text/html": [
       "<div>\n",
       "<style scoped>\n",
       "    .dataframe tbody tr th:only-of-type {\n",
       "        vertical-align: middle;\n",
       "    }\n",
       "\n",
       "    .dataframe tbody tr th {\n",
       "        vertical-align: top;\n",
       "    }\n",
       "\n",
       "    .dataframe thead th {\n",
       "        text-align: right;\n",
       "    }\n",
       "</style>\n",
       "<table border=\"1\" class=\"dataframe\">\n",
       "  <thead>\n",
       "    <tr style=\"text-align: right;\">\n",
       "      <th></th>\n",
       "      <th>Aladdin</th>\n",
       "      <th>Xander</th>\n",
       "      <th>Walker</th>\n",
       "      <th>Vision</th>\n",
       "      <th>Ursula</th>\n",
       "    </tr>\n",
       "  </thead>\n",
       "  <tbody>\n",
       "    <tr>\n",
       "      <th>2015</th>\n",
       "      <td>18000.0</td>\n",
       "      <td>22000.0</td>\n",
       "      <td>30000.0</td>\n",
       "      <td>45000.0</td>\n",
       "      <td>37800.0</td>\n",
       "    </tr>\n",
       "    <tr>\n",
       "      <th>2016</th>\n",
       "      <td>50000.0</td>\n",
       "      <td>70000.0</td>\n",
       "      <td>100000.0</td>\n",
       "      <td>125000.0</td>\n",
       "      <td>52000.0</td>\n",
       "    </tr>\n",
       "    <tr>\n",
       "      <th>2017</th>\n",
       "      <td>60000.0</td>\n",
       "      <td>80000.0</td>\n",
       "      <td>90000.0</td>\n",
       "      <td>90000.0</td>\n",
       "      <td>78438.0</td>\n",
       "    </tr>\n",
       "    <tr>\n",
       "      <th>2018</th>\n",
       "      <td>110000.0</td>\n",
       "      <td>100000.0</td>\n",
       "      <td>340000.0</td>\n",
       "      <td>900000.0</td>\n",
       "      <td>38852.0</td>\n",
       "    </tr>\n",
       "  </tbody>\n",
       "</table>\n",
       "</div>"
      ],
      "text/plain": [
       "       Aladdin    Xander    Walker    Vision   Ursula\n",
       "2015   18000.0   22000.0   30000.0   45000.0  37800.0\n",
       "2016   50000.0   70000.0  100000.0  125000.0  52000.0\n",
       "2017   60000.0   80000.0   90000.0   90000.0  78438.0\n",
       "2018  110000.0  100000.0  340000.0  900000.0  38852.0"
      ]
     },
     "execution_count": 197,
     "metadata": {},
     "output_type": "execute_result"
    }
   ],
   "source": [
    "print('3l) Read the data in the file SalesFigures.csv into a DataFrame SalesRetrieved and Display it.Now update the row labels and column labels of \\\n",
    "SalesRetrieved to be the same as that of Sales.')\n",
    "SalesRetrieved = pd.read_csv(output_path, header=None)\n",
    "\n",
    "SalesRetrieved.columns = Sales.columns\n",
    "SalesRetrieved.index = Sales.index\n",
    "\n",
    "SalesRetrieved"
   ]
  }
 ],
 "metadata": {
  "kernelspec": {
   "display_name": "Python 3 (ipykernel)",
   "language": "python",
   "name": "python3"
  },
  "language_info": {
   "codemirror_mode": {
    "name": "ipython",
    "version": 3
   },
   "file_extension": ".py",
   "mimetype": "text/x-python",
   "name": "python",
   "nbconvert_exporter": "python",
   "pygments_lexer": "ipython3",
   "version": "3.10.12"
  }
 },
 "nbformat": 4,
 "nbformat_minor": 5
}
